{
  "nbformat": 4,
  "nbformat_minor": 0,
  "metadata": {
    "colab": {
      "provenance": [],
      "authorship_tag": "ABX9TyNggm21Yg0O6o41pgijwpoR"
    },
    "kernelspec": {
      "name": "python3",
      "display_name": "Python 3"
    },
    "language_info": {
      "name": "python"
    }
  },
  "cells": [
    {
      "cell_type": "code",
      "execution_count": 1,
      "metadata": {
        "id": "0-LkZGP2ziA4"
      },
      "outputs": [],
      "source": [
        "import math\n",
        "from tqdm import tqdm"
      ]
    },
    {
      "cell_type": "code",
      "source": [],
      "metadata": {
        "id": "VJCnZL_vqvsT"
      },
      "execution_count": null,
      "outputs": []
    },
    {
      "cell_type": "code",
      "source": [
        "from collections import Counter"
      ],
      "metadata": {
        "id": "cfzH1kVyz5iW"
      },
      "execution_count": 2,
      "outputs": []
    },
    {
      "cell_type": "code",
      "source": [
        "def pmi(pair, c_coref_event_count, c_all_events, event_counter, len_coref_event):\n",
        "  p1 = c_all_events[pair[0]] / event_counter\n",
        "  p2 = c_all_events[pair[1]] / event_counter\n",
        "  p_pair = c_coref_event_count[pair] / len_coref_event\n",
        "  if (p1 * p2) == 0:\n",
        "    result = 0\n",
        "  elif p_pair / (p1 * p2) <= 0:\n",
        "    result = 0\n",
        "  else:\n",
        "    result = math.log(p_pair / (p1 * p2), 2)\n",
        "  return result"
      ],
      "metadata": {
        "id": "D9ScrR-TzsXB"
      },
      "execution_count": 3,
      "outputs": []
    },
    {
      "cell_type": "code",
      "source": [
        "def sim(pair, argument, lmbd=1):\n",
        "  pair_pmi = pmi(pair, c_coref_event_count, c_all_events, event_counter, len_coref_event)\n",
        "  if c_coref_role_count[(pair[0], pair[1], argument)] > 0:\n",
        "    result = pair_pmi + (lmbd * math.log(c_coref_role_count[(pair[0], pair[1], argument)], 2))\n",
        "  else:\n",
        "    result = pair_pmi\n",
        "  return result"
      ],
      "metadata": {
        "id": "9bgrd1QVz2dM"
      },
      "execution_count": 4,
      "outputs": []
    },
    {
      "cell_type": "code",
      "source": [
        "def chain_score(chain, argument, lmbd=1):\n",
        "  if len(chain) > 1:\n",
        "    score = 0\n",
        "    for event1 in chain[:-1]:\n",
        "      for event2 in chain[1:]:\n",
        "        score += sim((event1, event2), argument, lmbd=lmbd)\n",
        "  else:\n",
        "    freq = 0\n",
        "    for key in c_coref_role_count:\n",
        "      if argument in key and chain[0] in key:\n",
        "        freq += c_coref_role_count[key]\n",
        "    if freq != 0:\n",
        "      score = lmbd * math.log(freq, 2)\n",
        "    else:\n",
        "      score = 0\n",
        "  \n",
        "  return score"
      ],
      "metadata": {
        "id": "kxHSfKUg0CLy"
      },
      "execution_count": 5,
      "outputs": []
    },
    {
      "cell_type": "code",
      "source": [
        "#chainsim for 1 event\n",
        "def event_arg_similarity(chain, new_ev, arg_list, lmbd=1):\n",
        "  best_arg = None\n",
        "  sim_sc = 0\n",
        "  for argument in arg_list:\n",
        "    arg_sc = chain_score(chain, argument, lmbd=lmbd)\n",
        "    new_ev_sc = 0\n",
        "    for ev in chain:\n",
        "      new_ev_sc += sim((ev, new_ev), argument, lmbd=lmbd)\n",
        "    if (arg_sc + new_ev_sc) > sim_sc:\n",
        "      best_arg = argument\n",
        "      sim_sc = arg_sc + new_ev_sc\n",
        "  return sim_sc, best_arg"
      ],
      "metadata": {
        "id": "rgOQbVE10FEd"
      },
      "execution_count": 6,
      "outputs": []
    },
    {
      "cell_type": "code",
      "source": [
        "with open('event_count.txt', 'r', encoding='utf-8') as f:\n",
        "  counts = f.read().split()\n",
        "\n",
        "event_counter = 0\n",
        "for c in counts:\n",
        "  event_counter += int(c)"
      ],
      "metadata": {
        "id": "K7MYV-f00J__"
      },
      "execution_count": null,
      "outputs": []
    },
    {
      "cell_type": "code",
      "source": [
        "with open('coref_event_count.txt', 'r', encoding='utf-8') as f:\n",
        "  cor_lines = f.readlines()\n",
        "\n",
        "coref_event_count = []\n",
        "for line in cor_lines:\n",
        "  coref_event_count.append((tuple(line.split()[:2]), tuple(line.split()[-2:])))"
      ],
      "metadata": {
        "id": "TTv0zcLU0X8q"
      },
      "execution_count": null,
      "outputs": []
    },
    {
      "cell_type": "code",
      "source": [
        "with open('coref_role_count.txt', 'r', encoding='utf-8') as f:\n",
        "  cor_lines = f.readlines()\n",
        "\n",
        "coref_role_count = []\n",
        "for line in cor_lines:\n",
        "  coref_role_count.append((tuple(line.split()[:2]), tuple(line.split()[-3:-1]), line.split()[-1]))"
      ],
      "metadata": {
        "id": "6y0-ndLW0aPF"
      },
      "execution_count": null,
      "outputs": []
    },
    {
      "cell_type": "code",
      "source": [
        "with open('all_events.txt', 'r', encoding='utf-8') as f:\n",
        "  ev_lines = f.readlines()\n",
        "\n",
        "all_events = []\n",
        "for line in ev_lines:\n",
        "  all_events.append(tuple(line.split()))"
      ],
      "metadata": {
        "id": "LfS_5ZI10ckb"
      },
      "execution_count": null,
      "outputs": []
    },
    {
      "cell_type": "code",
      "source": [
        "dep_types = ['nsubj', 'obj']\n",
        "c_coref_event_count = Counter(coref_event_count)\n",
        "c_all_events = Counter(all_events)\n",
        "len_coref_event = len(coref_event_count)"
      ],
      "metadata": {
        "id": "FWAcJoJs0fAk"
      },
      "execution_count": null,
      "outputs": []
    },
    {
      "cell_type": "code",
      "source": [
        "c_coref_role_count = Counter(coref_role_count)"
      ],
      "metadata": {
        "id": "sSCBxkqJ0sEp"
      },
      "execution_count": null,
      "outputs": []
    },
    {
      "cell_type": "code",
      "source": [
        "#collecting all arguments\n",
        "arg_list = []\n",
        "for key in c_coref_role_count:\n",
        "  if key[-1] not in arg_list:\n",
        "    arg_list.append(key[-1])"
      ],
      "metadata": {
        "id": "0cChX5It00J7"
      },
      "execution_count": null,
      "outputs": []
    },
    {
      "cell_type": "code",
      "source": [
        "all_args = []\n",
        "for key in c_coref_role_count:\n",
        "  all_args.append(key[-1])\n",
        "\n",
        "c_all_args = Counter(all_args)"
      ],
      "metadata": {
        "id": "8IUrefxCBAXl"
      },
      "execution_count": null,
      "outputs": []
    },
    {
      "cell_type": "code",
      "source": [
        "# collecting all verbs\n",
        "verb_list = []\n",
        "for event in all_events:\n",
        "  if event[0] not in verb_list:\n",
        "    verb_list.append(event[0])"
      ],
      "metadata": {
        "id": "0GGFtNsi02w5"
      },
      "execution_count": null,
      "outputs": []
    },
    {
      "cell_type": "code",
      "source": [
        "nar_scheme = [[[[('купаться', 'nsubj'),], []],], \n",
        "              ['купаться',]]\n",
        "\n",
        "new_args = []\n",
        "new_verb = None\n",
        "max_score = 0\n",
        "for verb in verb_list:\n",
        "  if verb not in nar_scheme[-1]:\n",
        "    verb_score = 0\n",
        "    for dep in dep_types:\n",
        "      event_sc = 0\n",
        "      for chain in nar_scheme[0]:\n",
        "        sim_sc, best_arg = event_arg_similarity(chain[0], (verb, dep), arg_list, lmbd=1)\n",
        "        if sim_sc >= event_sc:\n",
        "          event_sc = sim_sc\n",
        "      verb_score += event_sc\n",
        "    if verb_score > max_score:\n",
        "      new_verb = verb\n",
        "      max_score = verb_score"
      ],
      "metadata": {
        "id": "gASoR1RDrPtS"
      },
      "execution_count": null,
      "outputs": []
    }
  ]
}