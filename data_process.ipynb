{
  "nbformat": 4,
  "nbformat_minor": 0,
  "metadata": {
    "colab": {
      "provenance": [],
      "authorship_tag": "ABX9TyMreIhbJH6idNIAEaVVaybE",
      "include_colab_link": true
    },
    "kernelspec": {
      "name": "python3",
      "display_name": "Python 3"
    },
    "language_info": {
      "name": "python"
    },
    "widgets": {
      "application/vnd.jupyter.widget-state+json": {
        "c6baa06231eb45fc9c8588a960e637cf": {
          "model_module": "@jupyter-widgets/controls",
          "model_name": "HBoxModel",
          "model_module_version": "1.5.0",
          "state": {
            "_dom_classes": [],
            "_model_module": "@jupyter-widgets/controls",
            "_model_module_version": "1.5.0",
            "_model_name": "HBoxModel",
            "_view_count": null,
            "_view_module": "@jupyter-widgets/controls",
            "_view_module_version": "1.5.0",
            "_view_name": "HBoxView",
            "box_style": "",
            "children": [
              "IPY_MODEL_29e418d70d3245bc9617f17fa942ea58",
              "IPY_MODEL_c74250d5ee1a49378957dc0d70f0940a",
              "IPY_MODEL_7ef1f370c9f04f3a8cc189360dbddb63"
            ],
            "layout": "IPY_MODEL_d761e4ed241c4039965b17d4b945bcfe"
          }
        },
        "29e418d70d3245bc9617f17fa942ea58": {
          "model_module": "@jupyter-widgets/controls",
          "model_name": "HTMLModel",
          "model_module_version": "1.5.0",
          "state": {
            "_dom_classes": [],
            "_model_module": "@jupyter-widgets/controls",
            "_model_module_version": "1.5.0",
            "_model_name": "HTMLModel",
            "_view_count": null,
            "_view_module": "@jupyter-widgets/controls",
            "_view_module_version": "1.5.0",
            "_view_name": "HTMLView",
            "description": "",
            "description_tooltip": null,
            "layout": "IPY_MODEL_3d10c5891e204db2b4771934410cd6f1",
            "placeholder": "​",
            "style": "IPY_MODEL_5bf7beabfc744b32881c22d354e6f37f",
            "value": "Downloading https://raw.githubusercontent.com/stanfordnlp/stanza-resources/main/resources_1.4.1.json: "
          }
        },
        "c74250d5ee1a49378957dc0d70f0940a": {
          "model_module": "@jupyter-widgets/controls",
          "model_name": "FloatProgressModel",
          "model_module_version": "1.5.0",
          "state": {
            "_dom_classes": [],
            "_model_module": "@jupyter-widgets/controls",
            "_model_module_version": "1.5.0",
            "_model_name": "FloatProgressModel",
            "_view_count": null,
            "_view_module": "@jupyter-widgets/controls",
            "_view_module_version": "1.5.0",
            "_view_name": "ProgressView",
            "bar_style": "success",
            "description": "",
            "description_tooltip": null,
            "layout": "IPY_MODEL_a25ad557ad2940b3b5fa8382bb327e23",
            "max": 28918,
            "min": 0,
            "orientation": "horizontal",
            "style": "IPY_MODEL_6f1d14c20b9e49078552396921610fb5",
            "value": 28918
          }
        },
        "7ef1f370c9f04f3a8cc189360dbddb63": {
          "model_module": "@jupyter-widgets/controls",
          "model_name": "HTMLModel",
          "model_module_version": "1.5.0",
          "state": {
            "_dom_classes": [],
            "_model_module": "@jupyter-widgets/controls",
            "_model_module_version": "1.5.0",
            "_model_name": "HTMLModel",
            "_view_count": null,
            "_view_module": "@jupyter-widgets/controls",
            "_view_module_version": "1.5.0",
            "_view_name": "HTMLView",
            "description": "",
            "description_tooltip": null,
            "layout": "IPY_MODEL_b639e227063b4302b2fa3931c974f359",
            "placeholder": "​",
            "style": "IPY_MODEL_326853cfc44542679ed689e5ea1949be",
            "value": " 193k/? [00:00&lt;00:00, 3.12MB/s]"
          }
        },
        "d761e4ed241c4039965b17d4b945bcfe": {
          "model_module": "@jupyter-widgets/base",
          "model_name": "LayoutModel",
          "model_module_version": "1.2.0",
          "state": {
            "_model_module": "@jupyter-widgets/base",
            "_model_module_version": "1.2.0",
            "_model_name": "LayoutModel",
            "_view_count": null,
            "_view_module": "@jupyter-widgets/base",
            "_view_module_version": "1.2.0",
            "_view_name": "LayoutView",
            "align_content": null,
            "align_items": null,
            "align_self": null,
            "border": null,
            "bottom": null,
            "display": null,
            "flex": null,
            "flex_flow": null,
            "grid_area": null,
            "grid_auto_columns": null,
            "grid_auto_flow": null,
            "grid_auto_rows": null,
            "grid_column": null,
            "grid_gap": null,
            "grid_row": null,
            "grid_template_areas": null,
            "grid_template_columns": null,
            "grid_template_rows": null,
            "height": null,
            "justify_content": null,
            "justify_items": null,
            "left": null,
            "margin": null,
            "max_height": null,
            "max_width": null,
            "min_height": null,
            "min_width": null,
            "object_fit": null,
            "object_position": null,
            "order": null,
            "overflow": null,
            "overflow_x": null,
            "overflow_y": null,
            "padding": null,
            "right": null,
            "top": null,
            "visibility": null,
            "width": null
          }
        },
        "3d10c5891e204db2b4771934410cd6f1": {
          "model_module": "@jupyter-widgets/base",
          "model_name": "LayoutModel",
          "model_module_version": "1.2.0",
          "state": {
            "_model_module": "@jupyter-widgets/base",
            "_model_module_version": "1.2.0",
            "_model_name": "LayoutModel",
            "_view_count": null,
            "_view_module": "@jupyter-widgets/base",
            "_view_module_version": "1.2.0",
            "_view_name": "LayoutView",
            "align_content": null,
            "align_items": null,
            "align_self": null,
            "border": null,
            "bottom": null,
            "display": null,
            "flex": null,
            "flex_flow": null,
            "grid_area": null,
            "grid_auto_columns": null,
            "grid_auto_flow": null,
            "grid_auto_rows": null,
            "grid_column": null,
            "grid_gap": null,
            "grid_row": null,
            "grid_template_areas": null,
            "grid_template_columns": null,
            "grid_template_rows": null,
            "height": null,
            "justify_content": null,
            "justify_items": null,
            "left": null,
            "margin": null,
            "max_height": null,
            "max_width": null,
            "min_height": null,
            "min_width": null,
            "object_fit": null,
            "object_position": null,
            "order": null,
            "overflow": null,
            "overflow_x": null,
            "overflow_y": null,
            "padding": null,
            "right": null,
            "top": null,
            "visibility": null,
            "width": null
          }
        },
        "5bf7beabfc744b32881c22d354e6f37f": {
          "model_module": "@jupyter-widgets/controls",
          "model_name": "DescriptionStyleModel",
          "model_module_version": "1.5.0",
          "state": {
            "_model_module": "@jupyter-widgets/controls",
            "_model_module_version": "1.5.0",
            "_model_name": "DescriptionStyleModel",
            "_view_count": null,
            "_view_module": "@jupyter-widgets/base",
            "_view_module_version": "1.2.0",
            "_view_name": "StyleView",
            "description_width": ""
          }
        },
        "a25ad557ad2940b3b5fa8382bb327e23": {
          "model_module": "@jupyter-widgets/base",
          "model_name": "LayoutModel",
          "model_module_version": "1.2.0",
          "state": {
            "_model_module": "@jupyter-widgets/base",
            "_model_module_version": "1.2.0",
            "_model_name": "LayoutModel",
            "_view_count": null,
            "_view_module": "@jupyter-widgets/base",
            "_view_module_version": "1.2.0",
            "_view_name": "LayoutView",
            "align_content": null,
            "align_items": null,
            "align_self": null,
            "border": null,
            "bottom": null,
            "display": null,
            "flex": null,
            "flex_flow": null,
            "grid_area": null,
            "grid_auto_columns": null,
            "grid_auto_flow": null,
            "grid_auto_rows": null,
            "grid_column": null,
            "grid_gap": null,
            "grid_row": null,
            "grid_template_areas": null,
            "grid_template_columns": null,
            "grid_template_rows": null,
            "height": null,
            "justify_content": null,
            "justify_items": null,
            "left": null,
            "margin": null,
            "max_height": null,
            "max_width": null,
            "min_height": null,
            "min_width": null,
            "object_fit": null,
            "object_position": null,
            "order": null,
            "overflow": null,
            "overflow_x": null,
            "overflow_y": null,
            "padding": null,
            "right": null,
            "top": null,
            "visibility": null,
            "width": null
          }
        },
        "6f1d14c20b9e49078552396921610fb5": {
          "model_module": "@jupyter-widgets/controls",
          "model_name": "ProgressStyleModel",
          "model_module_version": "1.5.0",
          "state": {
            "_model_module": "@jupyter-widgets/controls",
            "_model_module_version": "1.5.0",
            "_model_name": "ProgressStyleModel",
            "_view_count": null,
            "_view_module": "@jupyter-widgets/base",
            "_view_module_version": "1.2.0",
            "_view_name": "StyleView",
            "bar_color": null,
            "description_width": ""
          }
        },
        "b639e227063b4302b2fa3931c974f359": {
          "model_module": "@jupyter-widgets/base",
          "model_name": "LayoutModel",
          "model_module_version": "1.2.0",
          "state": {
            "_model_module": "@jupyter-widgets/base",
            "_model_module_version": "1.2.0",
            "_model_name": "LayoutModel",
            "_view_count": null,
            "_view_module": "@jupyter-widgets/base",
            "_view_module_version": "1.2.0",
            "_view_name": "LayoutView",
            "align_content": null,
            "align_items": null,
            "align_self": null,
            "border": null,
            "bottom": null,
            "display": null,
            "flex": null,
            "flex_flow": null,
            "grid_area": null,
            "grid_auto_columns": null,
            "grid_auto_flow": null,
            "grid_auto_rows": null,
            "grid_column": null,
            "grid_gap": null,
            "grid_row": null,
            "grid_template_areas": null,
            "grid_template_columns": null,
            "grid_template_rows": null,
            "height": null,
            "justify_content": null,
            "justify_items": null,
            "left": null,
            "margin": null,
            "max_height": null,
            "max_width": null,
            "min_height": null,
            "min_width": null,
            "object_fit": null,
            "object_position": null,
            "order": null,
            "overflow": null,
            "overflow_x": null,
            "overflow_y": null,
            "padding": null,
            "right": null,
            "top": null,
            "visibility": null,
            "width": null
          }
        },
        "326853cfc44542679ed689e5ea1949be": {
          "model_module": "@jupyter-widgets/controls",
          "model_name": "DescriptionStyleModel",
          "model_module_version": "1.5.0",
          "state": {
            "_model_module": "@jupyter-widgets/controls",
            "_model_module_version": "1.5.0",
            "_model_name": "DescriptionStyleModel",
            "_view_count": null,
            "_view_module": "@jupyter-widgets/base",
            "_view_module_version": "1.2.0",
            "_view_name": "StyleView",
            "description_width": ""
          }
        },
        "03db048bae97427da1e7960fd661362f": {
          "model_module": "@jupyter-widgets/controls",
          "model_name": "HBoxModel",
          "model_module_version": "1.5.0",
          "state": {
            "_dom_classes": [],
            "_model_module": "@jupyter-widgets/controls",
            "_model_module_version": "1.5.0",
            "_model_name": "HBoxModel",
            "_view_count": null,
            "_view_module": "@jupyter-widgets/controls",
            "_view_module_version": "1.5.0",
            "_view_name": "HBoxView",
            "box_style": "",
            "children": [
              "IPY_MODEL_34f25dfd68c34b1bb7b566a2cd98260c",
              "IPY_MODEL_59fde6c893c34464a3dfe1100ef4e790",
              "IPY_MODEL_a6707fc5ef9a43cb87f38dddb2288134"
            ],
            "layout": "IPY_MODEL_49c538fd97ef481dbf3d6b1b66d0c65a"
          }
        },
        "34f25dfd68c34b1bb7b566a2cd98260c": {
          "model_module": "@jupyter-widgets/controls",
          "model_name": "HTMLModel",
          "model_module_version": "1.5.0",
          "state": {
            "_dom_classes": [],
            "_model_module": "@jupyter-widgets/controls",
            "_model_module_version": "1.5.0",
            "_model_name": "HTMLModel",
            "_view_count": null,
            "_view_module": "@jupyter-widgets/controls",
            "_view_module_version": "1.5.0",
            "_view_name": "HTMLView",
            "description": "",
            "description_tooltip": null,
            "layout": "IPY_MODEL_5c3bd75e044444f89f8cdad581dc6f77",
            "placeholder": "​",
            "style": "IPY_MODEL_3fcd3fbebbe94d64ab1311808af73e30",
            "value": "Downloading https://huggingface.co/stanfordnlp/stanza-ru/resolve/v1.4.1/models/default.zip: 100%"
          }
        },
        "59fde6c893c34464a3dfe1100ef4e790": {
          "model_module": "@jupyter-widgets/controls",
          "model_name": "FloatProgressModel",
          "model_module_version": "1.5.0",
          "state": {
            "_dom_classes": [],
            "_model_module": "@jupyter-widgets/controls",
            "_model_module_version": "1.5.0",
            "_model_name": "FloatProgressModel",
            "_view_count": null,
            "_view_module": "@jupyter-widgets/controls",
            "_view_module_version": "1.5.0",
            "_view_name": "ProgressView",
            "bar_style": "success",
            "description": "",
            "description_tooltip": null,
            "layout": "IPY_MODEL_8c9e85d499744c68b6db2f3668d1d831",
            "max": 597217093,
            "min": 0,
            "orientation": "horizontal",
            "style": "IPY_MODEL_a394c3cc75c44c049e6fbef29f42e6bc",
            "value": 597217093
          }
        },
        "a6707fc5ef9a43cb87f38dddb2288134": {
          "model_module": "@jupyter-widgets/controls",
          "model_name": "HTMLModel",
          "model_module_version": "1.5.0",
          "state": {
            "_dom_classes": [],
            "_model_module": "@jupyter-widgets/controls",
            "_model_module_version": "1.5.0",
            "_model_name": "HTMLModel",
            "_view_count": null,
            "_view_module": "@jupyter-widgets/controls",
            "_view_module_version": "1.5.0",
            "_view_name": "HTMLView",
            "description": "",
            "description_tooltip": null,
            "layout": "IPY_MODEL_f1fbc90535854c7d8bd2d15ee22b4301",
            "placeholder": "​",
            "style": "IPY_MODEL_b78c07c29dc247238ae7bc1fc4dfd76a",
            "value": " 597M/597M [00:32&lt;00:00, 19.9MB/s]"
          }
        },
        "49c538fd97ef481dbf3d6b1b66d0c65a": {
          "model_module": "@jupyter-widgets/base",
          "model_name": "LayoutModel",
          "model_module_version": "1.2.0",
          "state": {
            "_model_module": "@jupyter-widgets/base",
            "_model_module_version": "1.2.0",
            "_model_name": "LayoutModel",
            "_view_count": null,
            "_view_module": "@jupyter-widgets/base",
            "_view_module_version": "1.2.0",
            "_view_name": "LayoutView",
            "align_content": null,
            "align_items": null,
            "align_self": null,
            "border": null,
            "bottom": null,
            "display": null,
            "flex": null,
            "flex_flow": null,
            "grid_area": null,
            "grid_auto_columns": null,
            "grid_auto_flow": null,
            "grid_auto_rows": null,
            "grid_column": null,
            "grid_gap": null,
            "grid_row": null,
            "grid_template_areas": null,
            "grid_template_columns": null,
            "grid_template_rows": null,
            "height": null,
            "justify_content": null,
            "justify_items": null,
            "left": null,
            "margin": null,
            "max_height": null,
            "max_width": null,
            "min_height": null,
            "min_width": null,
            "object_fit": null,
            "object_position": null,
            "order": null,
            "overflow": null,
            "overflow_x": null,
            "overflow_y": null,
            "padding": null,
            "right": null,
            "top": null,
            "visibility": null,
            "width": null
          }
        },
        "5c3bd75e044444f89f8cdad581dc6f77": {
          "model_module": "@jupyter-widgets/base",
          "model_name": "LayoutModel",
          "model_module_version": "1.2.0",
          "state": {
            "_model_module": "@jupyter-widgets/base",
            "_model_module_version": "1.2.0",
            "_model_name": "LayoutModel",
            "_view_count": null,
            "_view_module": "@jupyter-widgets/base",
            "_view_module_version": "1.2.0",
            "_view_name": "LayoutView",
            "align_content": null,
            "align_items": null,
            "align_self": null,
            "border": null,
            "bottom": null,
            "display": null,
            "flex": null,
            "flex_flow": null,
            "grid_area": null,
            "grid_auto_columns": null,
            "grid_auto_flow": null,
            "grid_auto_rows": null,
            "grid_column": null,
            "grid_gap": null,
            "grid_row": null,
            "grid_template_areas": null,
            "grid_template_columns": null,
            "grid_template_rows": null,
            "height": null,
            "justify_content": null,
            "justify_items": null,
            "left": null,
            "margin": null,
            "max_height": null,
            "max_width": null,
            "min_height": null,
            "min_width": null,
            "object_fit": null,
            "object_position": null,
            "order": null,
            "overflow": null,
            "overflow_x": null,
            "overflow_y": null,
            "padding": null,
            "right": null,
            "top": null,
            "visibility": null,
            "width": null
          }
        },
        "3fcd3fbebbe94d64ab1311808af73e30": {
          "model_module": "@jupyter-widgets/controls",
          "model_name": "DescriptionStyleModel",
          "model_module_version": "1.5.0",
          "state": {
            "_model_module": "@jupyter-widgets/controls",
            "_model_module_version": "1.5.0",
            "_model_name": "DescriptionStyleModel",
            "_view_count": null,
            "_view_module": "@jupyter-widgets/base",
            "_view_module_version": "1.2.0",
            "_view_name": "StyleView",
            "description_width": ""
          }
        },
        "8c9e85d499744c68b6db2f3668d1d831": {
          "model_module": "@jupyter-widgets/base",
          "model_name": "LayoutModel",
          "model_module_version": "1.2.0",
          "state": {
            "_model_module": "@jupyter-widgets/base",
            "_model_module_version": "1.2.0",
            "_model_name": "LayoutModel",
            "_view_count": null,
            "_view_module": "@jupyter-widgets/base",
            "_view_module_version": "1.2.0",
            "_view_name": "LayoutView",
            "align_content": null,
            "align_items": null,
            "align_self": null,
            "border": null,
            "bottom": null,
            "display": null,
            "flex": null,
            "flex_flow": null,
            "grid_area": null,
            "grid_auto_columns": null,
            "grid_auto_flow": null,
            "grid_auto_rows": null,
            "grid_column": null,
            "grid_gap": null,
            "grid_row": null,
            "grid_template_areas": null,
            "grid_template_columns": null,
            "grid_template_rows": null,
            "height": null,
            "justify_content": null,
            "justify_items": null,
            "left": null,
            "margin": null,
            "max_height": null,
            "max_width": null,
            "min_height": null,
            "min_width": null,
            "object_fit": null,
            "object_position": null,
            "order": null,
            "overflow": null,
            "overflow_x": null,
            "overflow_y": null,
            "padding": null,
            "right": null,
            "top": null,
            "visibility": null,
            "width": null
          }
        },
        "a394c3cc75c44c049e6fbef29f42e6bc": {
          "model_module": "@jupyter-widgets/controls",
          "model_name": "ProgressStyleModel",
          "model_module_version": "1.5.0",
          "state": {
            "_model_module": "@jupyter-widgets/controls",
            "_model_module_version": "1.5.0",
            "_model_name": "ProgressStyleModel",
            "_view_count": null,
            "_view_module": "@jupyter-widgets/base",
            "_view_module_version": "1.2.0",
            "_view_name": "StyleView",
            "bar_color": null,
            "description_width": ""
          }
        },
        "f1fbc90535854c7d8bd2d15ee22b4301": {
          "model_module": "@jupyter-widgets/base",
          "model_name": "LayoutModel",
          "model_module_version": "1.2.0",
          "state": {
            "_model_module": "@jupyter-widgets/base",
            "_model_module_version": "1.2.0",
            "_model_name": "LayoutModel",
            "_view_count": null,
            "_view_module": "@jupyter-widgets/base",
            "_view_module_version": "1.2.0",
            "_view_name": "LayoutView",
            "align_content": null,
            "align_items": null,
            "align_self": null,
            "border": null,
            "bottom": null,
            "display": null,
            "flex": null,
            "flex_flow": null,
            "grid_area": null,
            "grid_auto_columns": null,
            "grid_auto_flow": null,
            "grid_auto_rows": null,
            "grid_column": null,
            "grid_gap": null,
            "grid_row": null,
            "grid_template_areas": null,
            "grid_template_columns": null,
            "grid_template_rows": null,
            "height": null,
            "justify_content": null,
            "justify_items": null,
            "left": null,
            "margin": null,
            "max_height": null,
            "max_width": null,
            "min_height": null,
            "min_width": null,
            "object_fit": null,
            "object_position": null,
            "order": null,
            "overflow": null,
            "overflow_x": null,
            "overflow_y": null,
            "padding": null,
            "right": null,
            "top": null,
            "visibility": null,
            "width": null
          }
        },
        "b78c07c29dc247238ae7bc1fc4dfd76a": {
          "model_module": "@jupyter-widgets/controls",
          "model_name": "DescriptionStyleModel",
          "model_module_version": "1.5.0",
          "state": {
            "_model_module": "@jupyter-widgets/controls",
            "_model_module_version": "1.5.0",
            "_model_name": "DescriptionStyleModel",
            "_view_count": null,
            "_view_module": "@jupyter-widgets/base",
            "_view_module_version": "1.2.0",
            "_view_name": "StyleView",
            "description_width": ""
          }
        },
        "c094503942f649b79ee9373b2524cc8a": {
          "model_module": "@jupyter-widgets/controls",
          "model_name": "HBoxModel",
          "model_module_version": "1.5.0",
          "state": {
            "_dom_classes": [],
            "_model_module": "@jupyter-widgets/controls",
            "_model_module_version": "1.5.0",
            "_model_name": "HBoxModel",
            "_view_count": null,
            "_view_module": "@jupyter-widgets/controls",
            "_view_module_version": "1.5.0",
            "_view_name": "HBoxView",
            "box_style": "",
            "children": [
              "IPY_MODEL_3f3e63e19fea45b69314808768669d2d",
              "IPY_MODEL_0037ff2c44c74c27a9540b3a1c8a6c05",
              "IPY_MODEL_3f0e54e011ec4ad492976986fc618a93"
            ],
            "layout": "IPY_MODEL_a7ac2c3ea5ab4091a867fb00767921ad"
          }
        },
        "3f3e63e19fea45b69314808768669d2d": {
          "model_module": "@jupyter-widgets/controls",
          "model_name": "HTMLModel",
          "model_module_version": "1.5.0",
          "state": {
            "_dom_classes": [],
            "_model_module": "@jupyter-widgets/controls",
            "_model_module_version": "1.5.0",
            "_model_name": "HTMLModel",
            "_view_count": null,
            "_view_module": "@jupyter-widgets/controls",
            "_view_module_version": "1.5.0",
            "_view_name": "HTMLView",
            "description": "",
            "description_tooltip": null,
            "layout": "IPY_MODEL_6e44e73842e4427db90abf4dea823d4c",
            "placeholder": "​",
            "style": "IPY_MODEL_3d5f41bfe49f40088085564b3bb3bca4",
            "value": "Downloading https://raw.githubusercontent.com/stanfordnlp/stanza-resources/main/resources_1.4.1.json: "
          }
        },
        "0037ff2c44c74c27a9540b3a1c8a6c05": {
          "model_module": "@jupyter-widgets/controls",
          "model_name": "FloatProgressModel",
          "model_module_version": "1.5.0",
          "state": {
            "_dom_classes": [],
            "_model_module": "@jupyter-widgets/controls",
            "_model_module_version": "1.5.0",
            "_model_name": "FloatProgressModel",
            "_view_count": null,
            "_view_module": "@jupyter-widgets/controls",
            "_view_module_version": "1.5.0",
            "_view_name": "ProgressView",
            "bar_style": "success",
            "description": "",
            "description_tooltip": null,
            "layout": "IPY_MODEL_4648bd3de6494789bd4e5a8289bcc6af",
            "max": 28918,
            "min": 0,
            "orientation": "horizontal",
            "style": "IPY_MODEL_ac448b91663647cfbdbc4556d8e2951a",
            "value": 28918
          }
        },
        "3f0e54e011ec4ad492976986fc618a93": {
          "model_module": "@jupyter-widgets/controls",
          "model_name": "HTMLModel",
          "model_module_version": "1.5.0",
          "state": {
            "_dom_classes": [],
            "_model_module": "@jupyter-widgets/controls",
            "_model_module_version": "1.5.0",
            "_model_name": "HTMLModel",
            "_view_count": null,
            "_view_module": "@jupyter-widgets/controls",
            "_view_module_version": "1.5.0",
            "_view_name": "HTMLView",
            "description": "",
            "description_tooltip": null,
            "layout": "IPY_MODEL_694e52702fd144d6ab02521eaafc4bb0",
            "placeholder": "​",
            "style": "IPY_MODEL_e0ff44a1121e430f89b0f0328604552c",
            "value": " 193k/? [00:00&lt;00:00, 2.25MB/s]"
          }
        },
        "a7ac2c3ea5ab4091a867fb00767921ad": {
          "model_module": "@jupyter-widgets/base",
          "model_name": "LayoutModel",
          "model_module_version": "1.2.0",
          "state": {
            "_model_module": "@jupyter-widgets/base",
            "_model_module_version": "1.2.0",
            "_model_name": "LayoutModel",
            "_view_count": null,
            "_view_module": "@jupyter-widgets/base",
            "_view_module_version": "1.2.0",
            "_view_name": "LayoutView",
            "align_content": null,
            "align_items": null,
            "align_self": null,
            "border": null,
            "bottom": null,
            "display": null,
            "flex": null,
            "flex_flow": null,
            "grid_area": null,
            "grid_auto_columns": null,
            "grid_auto_flow": null,
            "grid_auto_rows": null,
            "grid_column": null,
            "grid_gap": null,
            "grid_row": null,
            "grid_template_areas": null,
            "grid_template_columns": null,
            "grid_template_rows": null,
            "height": null,
            "justify_content": null,
            "justify_items": null,
            "left": null,
            "margin": null,
            "max_height": null,
            "max_width": null,
            "min_height": null,
            "min_width": null,
            "object_fit": null,
            "object_position": null,
            "order": null,
            "overflow": null,
            "overflow_x": null,
            "overflow_y": null,
            "padding": null,
            "right": null,
            "top": null,
            "visibility": null,
            "width": null
          }
        },
        "6e44e73842e4427db90abf4dea823d4c": {
          "model_module": "@jupyter-widgets/base",
          "model_name": "LayoutModel",
          "model_module_version": "1.2.0",
          "state": {
            "_model_module": "@jupyter-widgets/base",
            "_model_module_version": "1.2.0",
            "_model_name": "LayoutModel",
            "_view_count": null,
            "_view_module": "@jupyter-widgets/base",
            "_view_module_version": "1.2.0",
            "_view_name": "LayoutView",
            "align_content": null,
            "align_items": null,
            "align_self": null,
            "border": null,
            "bottom": null,
            "display": null,
            "flex": null,
            "flex_flow": null,
            "grid_area": null,
            "grid_auto_columns": null,
            "grid_auto_flow": null,
            "grid_auto_rows": null,
            "grid_column": null,
            "grid_gap": null,
            "grid_row": null,
            "grid_template_areas": null,
            "grid_template_columns": null,
            "grid_template_rows": null,
            "height": null,
            "justify_content": null,
            "justify_items": null,
            "left": null,
            "margin": null,
            "max_height": null,
            "max_width": null,
            "min_height": null,
            "min_width": null,
            "object_fit": null,
            "object_position": null,
            "order": null,
            "overflow": null,
            "overflow_x": null,
            "overflow_y": null,
            "padding": null,
            "right": null,
            "top": null,
            "visibility": null,
            "width": null
          }
        },
        "3d5f41bfe49f40088085564b3bb3bca4": {
          "model_module": "@jupyter-widgets/controls",
          "model_name": "DescriptionStyleModel",
          "model_module_version": "1.5.0",
          "state": {
            "_model_module": "@jupyter-widgets/controls",
            "_model_module_version": "1.5.0",
            "_model_name": "DescriptionStyleModel",
            "_view_count": null,
            "_view_module": "@jupyter-widgets/base",
            "_view_module_version": "1.2.0",
            "_view_name": "StyleView",
            "description_width": ""
          }
        },
        "4648bd3de6494789bd4e5a8289bcc6af": {
          "model_module": "@jupyter-widgets/base",
          "model_name": "LayoutModel",
          "model_module_version": "1.2.0",
          "state": {
            "_model_module": "@jupyter-widgets/base",
            "_model_module_version": "1.2.0",
            "_model_name": "LayoutModel",
            "_view_count": null,
            "_view_module": "@jupyter-widgets/base",
            "_view_module_version": "1.2.0",
            "_view_name": "LayoutView",
            "align_content": null,
            "align_items": null,
            "align_self": null,
            "border": null,
            "bottom": null,
            "display": null,
            "flex": null,
            "flex_flow": null,
            "grid_area": null,
            "grid_auto_columns": null,
            "grid_auto_flow": null,
            "grid_auto_rows": null,
            "grid_column": null,
            "grid_gap": null,
            "grid_row": null,
            "grid_template_areas": null,
            "grid_template_columns": null,
            "grid_template_rows": null,
            "height": null,
            "justify_content": null,
            "justify_items": null,
            "left": null,
            "margin": null,
            "max_height": null,
            "max_width": null,
            "min_height": null,
            "min_width": null,
            "object_fit": null,
            "object_position": null,
            "order": null,
            "overflow": null,
            "overflow_x": null,
            "overflow_y": null,
            "padding": null,
            "right": null,
            "top": null,
            "visibility": null,
            "width": null
          }
        },
        "ac448b91663647cfbdbc4556d8e2951a": {
          "model_module": "@jupyter-widgets/controls",
          "model_name": "ProgressStyleModel",
          "model_module_version": "1.5.0",
          "state": {
            "_model_module": "@jupyter-widgets/controls",
            "_model_module_version": "1.5.0",
            "_model_name": "ProgressStyleModel",
            "_view_count": null,
            "_view_module": "@jupyter-widgets/base",
            "_view_module_version": "1.2.0",
            "_view_name": "StyleView",
            "bar_color": null,
            "description_width": ""
          }
        },
        "694e52702fd144d6ab02521eaafc4bb0": {
          "model_module": "@jupyter-widgets/base",
          "model_name": "LayoutModel",
          "model_module_version": "1.2.0",
          "state": {
            "_model_module": "@jupyter-widgets/base",
            "_model_module_version": "1.2.0",
            "_model_name": "LayoutModel",
            "_view_count": null,
            "_view_module": "@jupyter-widgets/base",
            "_view_module_version": "1.2.0",
            "_view_name": "LayoutView",
            "align_content": null,
            "align_items": null,
            "align_self": null,
            "border": null,
            "bottom": null,
            "display": null,
            "flex": null,
            "flex_flow": null,
            "grid_area": null,
            "grid_auto_columns": null,
            "grid_auto_flow": null,
            "grid_auto_rows": null,
            "grid_column": null,
            "grid_gap": null,
            "grid_row": null,
            "grid_template_areas": null,
            "grid_template_columns": null,
            "grid_template_rows": null,
            "height": null,
            "justify_content": null,
            "justify_items": null,
            "left": null,
            "margin": null,
            "max_height": null,
            "max_width": null,
            "min_height": null,
            "min_width": null,
            "object_fit": null,
            "object_position": null,
            "order": null,
            "overflow": null,
            "overflow_x": null,
            "overflow_y": null,
            "padding": null,
            "right": null,
            "top": null,
            "visibility": null,
            "width": null
          }
        },
        "e0ff44a1121e430f89b0f0328604552c": {
          "model_module": "@jupyter-widgets/controls",
          "model_name": "DescriptionStyleModel",
          "model_module_version": "1.5.0",
          "state": {
            "_model_module": "@jupyter-widgets/controls",
            "_model_module_version": "1.5.0",
            "_model_name": "DescriptionStyleModel",
            "_view_count": null,
            "_view_module": "@jupyter-widgets/base",
            "_view_module_version": "1.2.0",
            "_view_name": "StyleView",
            "description_width": ""
          }
        }
      }
    }
  },
  "cells": [
    {
      "cell_type": "markdown",
      "metadata": {
        "id": "view-in-github",
        "colab_type": "text"
      },
      "source": [
        "<a href=\"https://colab.research.google.com/github/nastyaskutina/fairytales/blob/main/data_process.ipynb\" target=\"_parent\"><img src=\"https://colab.research.google.com/assets/colab-badge.svg\" alt=\"Open In Colab\"/></a>"
      ]
    },
    {
      "cell_type": "code",
      "execution_count": 1,
      "metadata": {
        "id": "euiKhbtugs0z"
      },
      "outputs": [],
      "source": [
        "import pandas as pd"
      ]
    },
    {
      "cell_type": "code",
      "source": [
        "!pip install stanza\n",
        "import stanza\n",
        "stanza.download('ru')\n",
        "nlp = stanza.Pipeline('ru')"
      ],
      "metadata": {
        "colab": {
          "base_uri": "https://localhost:8080/",
          "height": 1000,
          "referenced_widgets": [
            "c6baa06231eb45fc9c8588a960e637cf",
            "29e418d70d3245bc9617f17fa942ea58",
            "c74250d5ee1a49378957dc0d70f0940a",
            "7ef1f370c9f04f3a8cc189360dbddb63",
            "d761e4ed241c4039965b17d4b945bcfe",
            "3d10c5891e204db2b4771934410cd6f1",
            "5bf7beabfc744b32881c22d354e6f37f",
            "a25ad557ad2940b3b5fa8382bb327e23",
            "6f1d14c20b9e49078552396921610fb5",
            "b639e227063b4302b2fa3931c974f359",
            "326853cfc44542679ed689e5ea1949be",
            "03db048bae97427da1e7960fd661362f",
            "34f25dfd68c34b1bb7b566a2cd98260c",
            "59fde6c893c34464a3dfe1100ef4e790",
            "a6707fc5ef9a43cb87f38dddb2288134",
            "49c538fd97ef481dbf3d6b1b66d0c65a",
            "5c3bd75e044444f89f8cdad581dc6f77",
            "3fcd3fbebbe94d64ab1311808af73e30",
            "8c9e85d499744c68b6db2f3668d1d831",
            "a394c3cc75c44c049e6fbef29f42e6bc",
            "f1fbc90535854c7d8bd2d15ee22b4301",
            "b78c07c29dc247238ae7bc1fc4dfd76a",
            "c094503942f649b79ee9373b2524cc8a",
            "3f3e63e19fea45b69314808768669d2d",
            "0037ff2c44c74c27a9540b3a1c8a6c05",
            "3f0e54e011ec4ad492976986fc618a93",
            "a7ac2c3ea5ab4091a867fb00767921ad",
            "6e44e73842e4427db90abf4dea823d4c",
            "3d5f41bfe49f40088085564b3bb3bca4",
            "4648bd3de6494789bd4e5a8289bcc6af",
            "ac448b91663647cfbdbc4556d8e2951a",
            "694e52702fd144d6ab02521eaafc4bb0",
            "e0ff44a1121e430f89b0f0328604552c"
          ]
        },
        "id": "cgObUXw6g1VW",
        "outputId": "41ce1e1b-4e0a-4629-ca1e-1b9806b047bb"
      },
      "execution_count": 2,
      "outputs": [
        {
          "output_type": "stream",
          "name": "stdout",
          "text": [
            "Looking in indexes: https://pypi.org/simple, https://us-python.pkg.dev/colab-wheels/public/simple/\n",
            "Collecting stanza\n",
            "  Downloading stanza-1.4.2-py3-none-any.whl (691 kB)\n",
            "\u001b[K     |████████████████████████████████| 691 kB 4.1 MB/s \n",
            "\u001b[?25hRequirement already satisfied: protobuf in /usr/local/lib/python3.7/dist-packages (from stanza) (3.19.6)\n",
            "Collecting emoji\n",
            "  Downloading emoji-2.2.0.tar.gz (240 kB)\n",
            "\u001b[K     |████████████████████████████████| 240 kB 45.5 MB/s \n",
            "\u001b[?25hRequirement already satisfied: numpy in /usr/local/lib/python3.7/dist-packages (from stanza) (1.21.6)\n",
            "Requirement already satisfied: requests in /usr/local/lib/python3.7/dist-packages (from stanza) (2.23.0)\n",
            "Requirement already satisfied: tqdm in /usr/local/lib/python3.7/dist-packages (from stanza) (4.64.1)\n",
            "Requirement already satisfied: six in /usr/local/lib/python3.7/dist-packages (from stanza) (1.15.0)\n",
            "Requirement already satisfied: torch>=1.3.0 in /usr/local/lib/python3.7/dist-packages (from stanza) (1.12.1+cu113)\n",
            "Requirement already satisfied: typing-extensions in /usr/local/lib/python3.7/dist-packages (from torch>=1.3.0->stanza) (4.1.1)\n",
            "Requirement already satisfied: certifi>=2017.4.17 in /usr/local/lib/python3.7/dist-packages (from requests->stanza) (2022.9.24)\n",
            "Requirement already satisfied: chardet<4,>=3.0.2 in /usr/local/lib/python3.7/dist-packages (from requests->stanza) (3.0.4)\n",
            "Requirement already satisfied: urllib3!=1.25.0,!=1.25.1,<1.26,>=1.21.1 in /usr/local/lib/python3.7/dist-packages (from requests->stanza) (1.24.3)\n",
            "Requirement already satisfied: idna<3,>=2.5 in /usr/local/lib/python3.7/dist-packages (from requests->stanza) (2.10)\n",
            "Building wheels for collected packages: emoji\n",
            "  Building wheel for emoji (setup.py) ... \u001b[?25l\u001b[?25hdone\n",
            "  Created wheel for emoji: filename=emoji-2.2.0-py3-none-any.whl size=234927 sha256=bf3d8b6fb120b0511b548d4ca4eda5c5706baa90054aee1a4ee3d92779adad33\n",
            "  Stored in directory: /root/.cache/pip/wheels/f3/e3/f2/1de1c2e3ed742e1df73e0f15d58864e50c7e64f607b548d6cf\n",
            "Successfully built emoji\n",
            "Installing collected packages: emoji, stanza\n",
            "Successfully installed emoji-2.2.0 stanza-1.4.2\n"
          ]
        },
        {
          "output_type": "display_data",
          "data": {
            "text/plain": [
              "Downloading https://raw.githubusercontent.com/stanfordnlp/stanza-resources/main/resources_1.4.1.json:   0%|   …"
            ],
            "application/vnd.jupyter.widget-view+json": {
              "version_major": 2,
              "version_minor": 0,
              "model_id": "c6baa06231eb45fc9c8588a960e637cf"
            }
          },
          "metadata": {}
        },
        {
          "output_type": "stream",
          "name": "stderr",
          "text": [
            "INFO:stanza:Downloading default packages for language: ru (Russian) ...\n"
          ]
        },
        {
          "output_type": "display_data",
          "data": {
            "text/plain": [
              "Downloading https://huggingface.co/stanfordnlp/stanza-ru/resolve/v1.4.1/models/default.zip:   0%|          | 0…"
            ],
            "application/vnd.jupyter.widget-view+json": {
              "version_major": 2,
              "version_minor": 0,
              "model_id": "03db048bae97427da1e7960fd661362f"
            }
          },
          "metadata": {}
        },
        {
          "output_type": "stream",
          "name": "stderr",
          "text": [
            "INFO:stanza:Finished downloading models and saved to /root/stanza_resources.\n",
            "INFO:stanza:Checking for updates to resources.json in case models have been updated.  Note: this behavior can be turned off with download_method=None or download_method=DownloadMethod.REUSE_RESOURCES\n"
          ]
        },
        {
          "output_type": "display_data",
          "data": {
            "text/plain": [
              "Downloading https://raw.githubusercontent.com/stanfordnlp/stanza-resources/main/resources_1.4.1.json:   0%|   …"
            ],
            "application/vnd.jupyter.widget-view+json": {
              "version_major": 2,
              "version_minor": 0,
              "model_id": "c094503942f649b79ee9373b2524cc8a"
            }
          },
          "metadata": {}
        },
        {
          "output_type": "stream",
          "name": "stderr",
          "text": [
            "INFO:stanza:Loading these models for language: ru (Russian):\n",
            "=========================\n",
            "| Processor | Package   |\n",
            "-------------------------\n",
            "| tokenize  | syntagrus |\n",
            "| pos       | syntagrus |\n",
            "| lemma     | syntagrus |\n",
            "| depparse  | syntagrus |\n",
            "| ner       | wikiner   |\n",
            "=========================\n",
            "\n",
            "INFO:stanza:Use device: cpu\n",
            "INFO:stanza:Loading: tokenize\n",
            "INFO:stanza:Loading: pos\n",
            "INFO:stanza:Loading: lemma\n",
            "INFO:stanza:Loading: depparse\n",
            "INFO:stanza:Loading: ner\n",
            "INFO:stanza:Done loading processors!\n"
          ]
        }
      ]
    },
    {
      "cell_type": "code",
      "source": [
        "def make_coref_table1(df1):\n",
        "  big_dict = {'id1': [], 'id2': [],\n",
        "              'num1': [], 'num2': [], 'gen1': [], 'gen2': [], \n",
        "              'pers1': [],'pers2': [], 'anim1': [], 'anim2': []}\n",
        "  list_id = list(df1[df1['ids'] != '-'].ids)\n",
        "  for id1 in list_id:\n",
        "    for id2 in list_id[list_id.index(id1)+1:]:\n",
        "      big_dict['id1'].append(list(df1[df1['ids'] == id1].ids)[0])\n",
        "      big_dict['id2'].append(list(df1[df1['ids'] == id2].ids)[0])\n",
        "      big_dict['num1'].append(list(df1[df1['ids'] == id1].Number)[0])\n",
        "      big_dict['num2'].append(list(df1[df1['ids'] == id2].Number)[0])\n",
        "      big_dict['gen1'].append(list(df1[df1['ids'] == id1].Gender)[0])\n",
        "      big_dict['gen2'].append(list(df1[df1['ids'] == id2].Gender)[0])\n",
        "      big_dict['pers1'].append(list(df1[df1['ids'] == id1].Person)[0])\n",
        "      big_dict['pers2'].append(list(df1[df1['ids'] == id2].Person)[0])\n",
        "      big_dict['anim1'].append(list(df1[df1['ids'] == id1].Animacy)[0])\n",
        "      big_dict['anim2'].append(list(df1[df1['ids'] == id2].Animacy)[0])\n",
        "  return big_dict"
      ],
      "metadata": {
        "id": "zVtbtLpxg5AC"
      },
      "execution_count": 3,
      "outputs": []
    },
    {
      "cell_type": "code",
      "source": [
        "def add_inf1(doc, df1):\n",
        "  #lst = list(df1[3])\n",
        "  # event chain for sentence\n",
        "  event_chain = []\n",
        "  details = []\n",
        "  feats = []\n",
        "  #counter = 0\n",
        "  part_idx = 0\n",
        "  ids = []\n",
        "  word_forms = {'text': [], 'lemmas': []}\n",
        "  for sentence in doc.sentences:\n",
        "    all_verbs = []\n",
        "    verb_ids = []\n",
        "    events = {}\n",
        "    all_participants = []\n",
        "    for word in sentence.words:\n",
        "      part_idx += 1\n",
        "      word_forms['text'].append(word.text)\n",
        "      word_forms['lemmas'].append(word.lemma)\n",
        "      part_idx, ids, details, feats = for_good_word(word, part_idx, ids, details, feats)\n",
        "\n",
        "      if word.pos == 'VERB':\n",
        "        all_verbs.append(word)\n",
        "        verb_ids.append(word.id)\n",
        "        events[word.lemma] = []\n",
        "      if word.deprel == 'obj' or word.deprel == 'nsubj':\n",
        "        all_participants.append((word, part_idx))\n",
        "    \n",
        "    for participant, part_idx in all_participants:\n",
        "      if participant.head in verb_ids:\n",
        "        idx = verb_ids.index(participant.head)\n",
        "        events[all_verbs[idx].lemma].append((participant.lemma, participant.deprel, part_idx))\n",
        "    for key in events:\n",
        "      if len(events[key]) != 0:\n",
        "        event = (key, tuple(events[key]))\n",
        "        event_chain.append(event)\n",
        "\n",
        "  df1.loc[:, 'text'] = word_forms['text']\n",
        "  df1.loc[:, 'lemma'] = word_forms['lemmas']\n",
        "  df1.loc[:, 'details'] = details\n",
        "  df1.loc[:, 'ids'] = ids\n",
        "  df1.loc[:, 'Number'] = [f[0] for f in feats]\n",
        "  df1.loc[:, 'Gender'] = [f[1] for f in feats]\n",
        "  df1.loc[:, 'Person'] = [f[2] for f in feats]\n",
        "  df1.loc[:, 'Animacy'] = [f[3] for f in feats]\n",
        "\n",
        "  return df1, event_chain"
      ],
      "metadata": {
        "id": "8a0RqHMRhBDh"
      },
      "execution_count": 4,
      "outputs": []
    },
    {
      "cell_type": "code",
      "source": [
        "def for_good_word(word, part_idx, ids, details, feats):\n",
        "  if word.pos == 'VERB':\n",
        "    ids.append('-')\n",
        "    #all_verbs.append(word)\n",
        "    #verb_ids.append(word.id)\n",
        "    #events[word.lemma] = []\n",
        "    details.append('VERB')\n",
        "    feats.append(('-', '-', '-', '-'))\n",
        "    \n",
        "  elif word.deprel == 'obj' or word.deprel == 'nsubj':\n",
        "    ids.append(part_idx)\n",
        "    #all_participants.append(word)\n",
        "    start_feats = ['-', '-', '-', '-']\n",
        "    if word.feats:\n",
        "      word_feats = word.feats.split('|')\n",
        "      for feat in word_feats:\n",
        "        if feat.split('=')[0] == 'Number':\n",
        "          start_feats[0] = feat.split('=')[1]\n",
        "        elif feat.split('=')[0] == 'Gender':\n",
        "          start_feats[1] = feat.split('=')[1]\n",
        "        elif feat.split('=')[0] == 'Person':\n",
        "          start_feats[2] = feat.split('=')[1]\n",
        "        elif feat.split('=')[0] == 'Animacy':\n",
        "          start_feats[3] = feat.split('=')[1]\n",
        "    feats.append(tuple(start_feats))\n",
        "    if word.deprel == 'obj':\n",
        "      details.append('obj')\n",
        "    elif word.deprel == 'nsubj':\n",
        "      details.append('nsubj')\n",
        "      \n",
        "  else:\n",
        "    details.append('-')\n",
        "    feats.append(('-', '-', '-', '-'))\n",
        "    ids.append('-')\n",
        "  return part_idx, ids, details, feats"
      ],
      "metadata": {
        "id": "lZq10HeKhGS8"
      },
      "execution_count": 5,
      "outputs": []
    },
    {
      "cell_type": "code",
      "source": [
        "!pip install pymorphy2"
      ],
      "metadata": {
        "colab": {
          "base_uri": "https://localhost:8080/"
        },
        "id": "z9HSOu5EiYVV",
        "outputId": "41b298d4-1f23-4dad-bf2c-d43f7fd29bde"
      },
      "execution_count": 9,
      "outputs": [
        {
          "output_type": "stream",
          "name": "stdout",
          "text": [
            "Looking in indexes: https://pypi.org/simple, https://us-python.pkg.dev/colab-wheels/public/simple/\n",
            "Collecting pymorphy2\n",
            "  Downloading pymorphy2-0.9.1-py3-none-any.whl (55 kB)\n",
            "\u001b[K     |████████████████████████████████| 55 kB 2.0 MB/s \n",
            "\u001b[?25hCollecting pymorphy2-dicts-ru<3.0,>=2.4\n",
            "  Downloading pymorphy2_dicts_ru-2.4.417127.4579844-py2.py3-none-any.whl (8.2 MB)\n",
            "\u001b[K     |████████████████████████████████| 8.2 MB 7.4 MB/s \n",
            "\u001b[?25hCollecting docopt>=0.6\n",
            "  Downloading docopt-0.6.2.tar.gz (25 kB)\n",
            "Collecting dawg-python>=0.7.1\n",
            "  Downloading DAWG_Python-0.7.2-py2.py3-none-any.whl (11 kB)\n",
            "Building wheels for collected packages: docopt\n",
            "  Building wheel for docopt (setup.py) ... \u001b[?25l\u001b[?25hdone\n",
            "  Created wheel for docopt: filename=docopt-0.6.2-py2.py3-none-any.whl size=13723 sha256=d0ba4207e8f4e99c84d009ae3e9d09cab8fb91910bba5e515f194e32fcf3dd83\n",
            "  Stored in directory: /root/.cache/pip/wheels/72/b0/3f/1d95f96ff986c7dfffe46ce2be4062f38ebd04b506c77c81b9\n",
            "Successfully built docopt\n",
            "Installing collected packages: pymorphy2-dicts-ru, docopt, dawg-python, pymorphy2\n",
            "Successfully installed dawg-python-0.7.2 docopt-0.6.2 pymorphy2-0.9.1 pymorphy2-dicts-ru-2.4.417127.4579844\n"
          ]
        }
      ]
    },
    {
      "cell_type": "code",
      "source": [
        "def coref_check_a(id1, id2, antecendent, ft_table, corefs):\n",
        "  counter = 0\n",
        "  for feat in ['Number', 'Gender', 'Animacy']:\n",
        "    word_feat1 = list(ft_table[ft_table['ids'] == id1][feat])[0]\n",
        "    word_feat2 = list(ft_table[ft_table['ids'] == id2][feat])[0]\n",
        "    word_feat3 = list(ft_table[ft_table['ids'] == antecendent][feat])[0]\n",
        "    if word_feat1 != word_feat2 and word_feat1 != '-' and word_feat2 != '-':\n",
        "      counter += 1\n",
        "    if word_feat1 != word_feat3 and word_feat1 != '-' and word_feat3 != '-':\n",
        "      counter += 1\n",
        "  if counter < 1:\n",
        "    corefs[id1] = antecendent\n",
        "\n",
        "\n",
        "def coref_check(id1, id2, ft_table, corefs):\n",
        "  counter = 0\n",
        "  for feat in ['Number', 'Gender', 'Animacy']:\n",
        "    word_feat1 = list(ft_table[ft_table['ids'] == id1][feat])[0]\n",
        "    word_feat2 = list(ft_table[ft_table['ids'] == id2][feat])[0]\n",
        "    if word_feat1 != word_feat2 and word_feat1 != '-' and word_feat2 != '-':\n",
        "      counter += 1\n",
        "  if counter < 1:\n",
        "    corefs[id1] = id2"
      ],
      "metadata": {
        "id": "TIasm-D6h4Cb"
      },
      "execution_count": 10,
      "outputs": []
    },
    {
      "cell_type": "code",
      "source": [
        "def coref_check_n(id1, id2, ft_table):\n",
        "  counter = 0\n",
        "  for feat in ['Number', 'Gender', 'Animacy']:\n",
        "    word_feat1 = list(ft_table[ft_table['ids'] == id1][feat])[0]\n",
        "    word_feat2 = list(ft_table[ft_table['ids'] == id2][feat])[0]\n",
        "    if word_feat1 != word_feat2 and word_feat1 != '-' and word_feat2 != '-':\n",
        "      counter += 1\n",
        "  result = counter < 1\n",
        "  return result"
      ],
      "metadata": {
        "id": "xFm5MLUEiEuW"
      },
      "execution_count": 11,
      "outputs": []
    },
    {
      "cell_type": "code",
      "source": [
        "def coref_change(id1, id2, corefs):\n",
        "  for k in corefs:\n",
        "    if id1 == corefs[k]:\n",
        "      corefs[k] = id2"
      ],
      "metadata": {
        "id": "c2Wu6-Eamdfr"
      },
      "execution_count": 33,
      "outputs": []
    },
    {
      "cell_type": "code",
      "source": [
        "import pymorphy2\n",
        "morph = pymorphy2.MorphAnalyzer()"
      ],
      "metadata": {
        "id": "7d3J3Sjric4f"
      },
      "execution_count": 12,
      "outputs": []
    },
    {
      "cell_type": "code",
      "source": [
        "from collections import Counter"
      ],
      "metadata": {
        "id": "F4KQ68v5ifEm"
      },
      "execution_count": 13,
      "outputs": []
    },
    {
      "cell_type": "code",
      "source": [
        "def for_gen(c, ft):\n",
        "  feats = []\n",
        "  for item in c[1]:\n",
        "    if item == '-':\n",
        "      feats.append(0)\n",
        "    elif item == 'Masc':\n",
        "      feats.append(1)\n",
        "    elif item == 'Fem':\n",
        "      feats.append(2)\n",
        "    elif item == 'Neut':\n",
        "      feats.append(3)\n",
        "      \n",
        "  if c[0] == 'gen1':\n",
        "    ft.gen1 = feats\n",
        "  elif c[0] == 'gen2':\n",
        "    ft.gen2 = feats"
      ],
      "metadata": {
        "id": "E_8H93gIig3a"
      },
      "execution_count": 16,
      "outputs": []
    },
    {
      "cell_type": "code",
      "source": [
        "def for_num(c, ft):\n",
        "  feats = []\n",
        "  for item in c[1]:\n",
        "    if item == '-':\n",
        "      feats.append(0)\n",
        "    elif item == 'Sing':\n",
        "      feats.append(1)\n",
        "    elif item == 'Plur':\n",
        "      feats.append(2)\n",
        "      \n",
        "  if c[0] == 'num1':\n",
        "    ft.num1 = feats\n",
        "  elif c[0] == 'num2':\n",
        "    ft.num2 = feats"
      ],
      "metadata": {
        "id": "bW0Bdo1_imE9"
      },
      "execution_count": 17,
      "outputs": []
    },
    {
      "cell_type": "code",
      "source": [
        "def for_pers(c, ft):\n",
        "  feats = []\n",
        "  for item in c[1]:\n",
        "    if item == '-':\n",
        "      feats.append(0)\n",
        "    elif item == '1':\n",
        "      feats.append(1)\n",
        "    elif item == '2':\n",
        "      feats.append(2)\n",
        "    elif item == '3':\n",
        "      feats.append(3)\n",
        "  \n",
        "  if c[0] == 'pers1':\n",
        "    ft.pers1 = feats\n",
        "  elif c[0] == 'pers2':\n",
        "    ft.pers2 = feats"
      ],
      "metadata": {
        "id": "JwpIsiq4iqCp"
      },
      "execution_count": 18,
      "outputs": []
    },
    {
      "cell_type": "code",
      "source": [
        "def for_anim(c, ft):\n",
        "  feats = []\n",
        "  for item in c[1]:\n",
        "    if item == '-':\n",
        "      feats.append(0)\n",
        "    elif item == 'Inan':\n",
        "      feats.append(1)\n",
        "    elif item == 'Anim':\n",
        "      feats.append(2)\n",
        "  \n",
        "  if c[0] == 'anim1':\n",
        "    ft.anim1 = feats\n",
        "  elif c[0] == 'anim2':\n",
        "    ft.anim2 = feats"
      ],
      "metadata": {
        "id": "7cv0UVFLi2y1"
      },
      "execution_count": 19,
      "outputs": []
    },
    {
      "cell_type": "code",
      "source": [
        "def table_fix(ft):\n",
        "  cols = [('gen1', ft.gen1), ('gen2', ft.gen2), ('num1', ft.num1), ('num2', ft.num2), \n",
        "          ('pers1', ft.pers1), ('pers2', ft.pers2), ('anim1', ft.anim1), ('anim2', ft.anim2)]\n",
        "  for c in cols:\n",
        "    if c[0].startswith('gen'):\n",
        "      for_gen(c, ft)\n",
        "    elif c[0].startswith('num'):\n",
        "      for_num(c, ft)\n",
        "    elif c[0].startswith('pers'):\n",
        "      for_pers(c, ft)\n",
        "    elif c[0].startswith('anim'):\n",
        "      for_anim(c, ft)\n"
      ],
      "metadata": {
        "id": "10C7j6Csi4sS"
      },
      "execution_count": 20,
      "outputs": []
    },
    {
      "cell_type": "code",
      "source": [
        "def text_preproc(text):\n",
        "  table = pd.DataFrame()\n",
        "  ft_table, ev_chain = add_inf1(nlp(text), table)\n",
        "  ft_dic = make_coref_table1(ft_table)\n",
        "  ft = pd.DataFrame(ft_dic)\n",
        "  table_fix(ft)\n",
        "  columns=['id1', 'id2']\n",
        "  ft_X = ft.drop(columns, axis = 1)\n",
        "  ft_y_pred = coref_model.predict(ft_X)\n",
        "  ft['pred_coref'] = list(ft_y_pred)\n",
        "  return ft, ev_chain, ft_table"
      ],
      "metadata": {
        "id": "A670O02Pi6Zp"
      },
      "execution_count": 21,
      "outputs": []
    },
    {
      "cell_type": "code",
      "source": [
        "def get_coref_chains(ft, ev_chain, ft_table):\n",
        "  ft_cor = {}\n",
        "  for i, row in ft[['id1', 'id2']][ft['pred_coref'] == 1].iterrows():\n",
        "    if row['id1'] not in ft_cor:\n",
        "      ft_cor[row['id1']] = []\n",
        "    ft_cor[row['id1']].append(row['id2'])\n",
        "\n",
        "    if row['id2'] not in ft_cor:\n",
        "      ft_cor[row['id2']] = []\n",
        "    ft_cor[row['id2']].append(row['id1']) \n",
        "  \n",
        "\n",
        "  coref_chains = {}\n",
        "  all_events = []\n",
        "  corefs = {}\n",
        "  for event in ev_chain:\n",
        "    for part in event[1]:\n",
        "      all_events.append((event[0], part[1]))\n",
        "      chain_counter = 0\n",
        "      if part[2] in ft_cor:\n",
        "        if part[2] in corefs:\n",
        "          antecendent = corefs[part[2]]\n",
        "          coref_chains[antecendent]['names'].append(part[0])\n",
        "          coref_chains[antecendent]['events'].append((event[0], part[1], part[0]))\n",
        "          chain_counter = 1\n",
        "          for idx in [idx for idx in ft_cor[part[2]] if idx > part[2]]:\n",
        "            coref_check_a(idx, part[2], antecendent, ft_table, corefs)\n",
        "        else:\n",
        "          for idx in [idx for idx in ft_cor[part[2]] if idx > part[2]]:\n",
        "            coref_check(idx, part[2], ft_table, corefs)\n",
        "      \n",
        "      if chain_counter == 0:\n",
        "        for key in coref_chains:\n",
        "          if part[0] in coref_chains[key]['names']:\n",
        "              # проверка\n",
        "            if coref_check_n(key, part[2], ft_table):\n",
        "              coref_chains[key]['names'].append(part[0])\n",
        "              coref_chains[key]['events'].append((event[0], part[1], part[0]))\n",
        "              coref_change(part[2], key, corefs)\n",
        "              chain_counter = 1\n",
        "              break\n",
        "            else:\n",
        "              continue\n",
        "        \n",
        "      if chain_counter == 0:\n",
        "        coref_chains[part[2]] = {}\n",
        "        coref_chains[part[2]]['names'] = [part[0]]\n",
        "        coref_chains[part[2]]['events'] = [(event[0], part[1], part[0])]\n",
        "  \n",
        "  return coref_chains, all_events"
      ],
      "metadata": {
        "id": "PdukEOvbi8Rm"
      },
      "execution_count": 22,
      "outputs": []
    },
    {
      "cell_type": "code",
      "source": [
        "def add_data(coref_chains, coref_event_count, coref_role_count):\n",
        "  for cor in coref_chains:\n",
        "    events = coref_chains[cor]['events']\n",
        "    names = coref_chains[cor]['names']\n",
        "    name = None\n",
        "    for item in Counter(names).most_common():\n",
        "      for p in morph.parse(item[0]):\n",
        "        if 'NOUN' in p.tag:\n",
        "          name = item[0]\n",
        "          break\n",
        "      if name != None:\n",
        "        break\n",
        "    \n",
        "    if len(events) > 1:\n",
        "      for ev1 in events[:-1]:\n",
        "        for ev2 in events[events.index(ev1)+1:]:\n",
        "          coref_event_count.append((ev1[:-1], ev2[:-1]))\n",
        "          if name != None:\n",
        "            coref_role_count.append((ev1[:-1], ev2[:-1], name))"
      ],
      "metadata": {
        "id": "3ZBfNtJTi_GS"
      },
      "execution_count": 23,
      "outputs": []
    },
    {
      "cell_type": "code",
      "source": [
        "import os"
      ],
      "metadata": {
        "id": "7y9P32VFjI0i"
      },
      "execution_count": 24,
      "outputs": []
    },
    {
      "cell_type": "code",
      "source": [
        "df_cat = pd.read_csv('coref_inf.tsv', sep='\\t')  \n",
        "df_cat = df_cat.drop(['Unnamed: 0'], axis =1 )\n",
        "table_fix(df_cat)"
      ],
      "metadata": {
        "id": "OvSGanQ7hKRB"
      },
      "execution_count": 28,
      "outputs": []
    },
    {
      "cell_type": "code",
      "source": [
        "from sklearn.linear_model import LogisticRegression\n",
        "import numpy as np\n",
        "from sklearn.inspection import permutation_importance\n",
        "from sklearn.model_selection import train_test_split\n",
        "\n",
        "\n",
        "columns=['coref']\n",
        "\n",
        "X = df_cat.drop(columns, axis = 1)\n",
        "y = df_cat['coref']\n",
        "\n",
        "X_train, X_test, y_train, y_test = train_test_split(X, y, test_size=0.1)"
      ],
      "metadata": {
        "id": "DcNVBVZkhbgO"
      },
      "execution_count": 30,
      "outputs": []
    },
    {
      "cell_type": "code",
      "source": [
        "lg = LogisticRegression()\n",
        "coref_model = lg.fit(X_train, y_train)\n",
        "y_pred = coref_model.predict(X_test)\n",
        "print(\"Number of mislabeled points out of a total %d points : %d\" \n",
        "      % (X_test.shape[0], (y_test != y_pred).sum()))\n",
        "print((y_test != y_pred).sum() / X_test.shape[0] * 100)"
      ],
      "metadata": {
        "colab": {
          "base_uri": "https://localhost:8080/"
        },
        "id": "xB3Oy02EhyN-",
        "outputId": "fcc0301a-98a8-460e-a97f-a5137f6ffa0d"
      },
      "execution_count": 31,
      "outputs": [
        {
          "output_type": "stream",
          "name": "stdout",
          "text": [
            "Number of mislabeled points out of a total 85268 points : 22978\n",
            "26.947975793967256\n"
          ]
        }
      ]
    },
    {
      "cell_type": "code",
      "source": [
        "f_texts = []\n",
        "dir_name = 'data'\n",
        "for filename in os.listdir(dir_name):\n",
        "  #print(filename)\n",
        "  with open(os.path.join(dir_name, filename), 'r', encoding='utf-8') as f:\n",
        "    text = f.read()\n",
        "    f_texts.append(text)"
      ],
      "metadata": {
        "id": "GTr5MZdcjPBz"
      },
      "execution_count": 36,
      "outputs": []
    },
    {
      "cell_type": "code",
      "source": [
        "coref_event_count = []\n",
        "coref_role_count = []\n",
        "all_events = []\n",
        "event_counter = 0\n",
        "for t in f_texts:\n",
        "  ft, ev_chain, ft_table = text_preproc(t)\n",
        "  try:\n",
        "    coref_chains, text_events = get_coref_chains(ft, ev_chain, ft_table)\n",
        "  except LookupError:\n",
        "    print('sorry')\n",
        "    continue\n",
        "  event_counter += len(ev_chain)\n",
        "  all_events.extend(text_events)\n",
        "  add_data(coref_chains, coref_event_count, coref_role_count)\n",
        "  print('ready')"
      ],
      "metadata": {
        "colab": {
          "base_uri": "https://localhost:8080/"
        },
        "id": "4nYoJnntjjrs",
        "outputId": "ea6ee412-358f-4312-bf73-8a52265dc3bb"
      },
      "execution_count": 37,
      "outputs": [
        {
          "output_type": "stream",
          "name": "stdout",
          "text": [
            "ready\n"
          ]
        }
      ]
    },
    {
      "cell_type": "code",
      "source": [
        "with open('coref_event_count.txt', 'a', encoding='utf-8') as f:\n",
        "  for pair in coref_event_count:\n",
        "    f.write(pair[0][0]+'\\t'+pair[0][1]+'\\t'+pair[1][0]+'\\t'+pair[1][1]+'\\n')"
      ],
      "metadata": {
        "id": "5cIDVAKam0l6"
      },
      "execution_count": 38,
      "outputs": []
    },
    {
      "cell_type": "code",
      "source": [
        "with open('coref_role_count.txt', 'a', encoding='utf-8') as f:\n",
        "  for pair in coref_role_count:\n",
        "    f.write(pair[0][0]+'\\t'+pair[0][1]+'\\t'+pair[1][0]+'\\t'+pair[1][1]+'\\t'+pair[2]+'\\n')"
      ],
      "metadata": {
        "id": "UBYY8aiFm2Zk"
      },
      "execution_count": 39,
      "outputs": []
    },
    {
      "cell_type": "code",
      "source": [
        "with open('all_events.txt', 'a', encoding='utf-8') as f:\n",
        "  for pair in all_events:\n",
        "    f.write(pair[0]+'\\t'+pair[1]+'\\n')"
      ],
      "metadata": {
        "id": "DwqVD-HYm5HN"
      },
      "execution_count": 40,
      "outputs": []
    },
    {
      "cell_type": "code",
      "source": [
        "with open('event_count.txt', 'a', encoding='utf-8') as f:\n",
        "  f.write('\\n'+str(event_counter))"
      ],
      "metadata": {
        "id": "QYH99udZm7sb"
      },
      "execution_count": 41,
      "outputs": []
    },
    {
      "cell_type": "code",
      "source": [],
      "metadata": {
        "id": "3L93TJxZj7zd"
      },
      "execution_count": null,
      "outputs": []
    }
  ]
}