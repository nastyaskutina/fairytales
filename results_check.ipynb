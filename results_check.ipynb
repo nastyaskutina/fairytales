{
  "nbformat": 4,
  "nbformat_minor": 0,
  "metadata": {
    "colab": {
      "provenance": [],
      "authorship_tag": "ABX9TyMRzzgn4wjuaDJB/QlPDxCP",
      "include_colab_link": true
    },
    "kernelspec": {
      "name": "python3",
      "display_name": "Python 3"
    },
    "language_info": {
      "name": "python"
    }
  },
  "cells": [
    {
      "cell_type": "markdown",
      "metadata": {
        "id": "view-in-github",
        "colab_type": "text"
      },
      "source": [
        "<a href=\"https://colab.research.google.com/github/nastyaskutina/fairytales/blob/main/results_check.ipynb\" target=\"_parent\"><img src=\"https://colab.research.google.com/assets/colab-badge.svg\" alt=\"Open In Colab\"/></a>"
      ]
    },
    {
      "cell_type": "code",
      "execution_count": 1,
      "metadata": {
        "id": "0-LkZGP2ziA4"
      },
      "outputs": [],
      "source": [
        "import math\n",
        "from tqdm import tqdm"
      ]
    },
    {
      "cell_type": "code",
      "source": [
        "from collections import Counter"
      ],
      "metadata": {
        "id": "cfzH1kVyz5iW"
      },
      "execution_count": 2,
      "outputs": []
    },
    {
      "cell_type": "code",
      "source": [
        "def pmi(pair, c_coref_event_count, c_all_events, event_counter, len_coref_event):\n",
        "  p1 = c_all_events[pair[0]] / event_counter\n",
        "  p2 = c_all_events[pair[1]] / event_counter\n",
        "  p_pair = c_coref_event_count[pair] / len_coref_event\n",
        "  if (p1 * p2) == 0:\n",
        "    result = 0\n",
        "  elif p_pair / (p1 * p2) <= 0:\n",
        "    result = 0\n",
        "  else:\n",
        "    result = math.log(p_pair / (p1 * p2), 2)\n",
        "  return result"
      ],
      "metadata": {
        "id": "D9ScrR-TzsXB"
      },
      "execution_count": 3,
      "outputs": []
    },
    {
      "cell_type": "code",
      "source": [
        "def sim(pair, argument, lmbd=1):\n",
        "  pair_pmi = pmi(pair, c_coref_event_count, c_all_events, event_counter, len_coref_event)\n",
        "  if c_coref_role_count[(pair[0], pair[1], argument)] > 0:\n",
        "    result = pair_pmi + (lmbd * math.log(c_coref_role_count[(pair[0], pair[1], argument)], 2))\n",
        "  else:\n",
        "    result = pair_pmi\n",
        "  return result"
      ],
      "metadata": {
        "id": "9bgrd1QVz2dM"
      },
      "execution_count": 4,
      "outputs": []
    },
    {
      "cell_type": "code",
      "source": [
        "def chain_score(chain, argument, lmbd=1):\n",
        "  if len(chain) > 1:\n",
        "    score = 0\n",
        "    for event1 in chain[:-1]:\n",
        "      for event2 in chain[1:]:\n",
        "        score += sim((event1, event2), argument, lmbd=lmbd)\n",
        "  else:\n",
        "    freq = 0\n",
        "    for key in c_coref_role_count:\n",
        "      if argument in key and chain[0] in key:\n",
        "        freq += c_coref_role_count[key]\n",
        "    if freq != 0:\n",
        "      score = lmbd * math.log(freq, 2)\n",
        "    else:\n",
        "      score = 0\n",
        "  \n",
        "  return score"
      ],
      "metadata": {
        "id": "kxHSfKUg0CLy"
      },
      "execution_count": 5,
      "outputs": []
    },
    {
      "cell_type": "code",
      "source": [
        "#chainsim for 1 event\n",
        "def event_arg_similarity(chain, new_ev, arg_list, lmbd=1):\n",
        "  best_arg = None\n",
        "  sim_sc = 0\n",
        "  for argument in arg_list:\n",
        "    arg_sc = chain_score(chain, argument, lmbd=lmbd)\n",
        "    new_ev_sc = 0\n",
        "    for ev in chain:\n",
        "      new_ev_sc += sim((ev, new_ev), argument, lmbd=lmbd)\n",
        "    if (arg_sc + new_ev_sc) > sim_sc:\n",
        "      best_arg = argument\n",
        "      sim_sc = arg_sc + new_ev_sc\n",
        "  return sim_sc, best_arg"
      ],
      "metadata": {
        "id": "rgOQbVE10FEd"
      },
      "execution_count": 6,
      "outputs": []
    },
    {
      "cell_type": "code",
      "source": [
        "with open('event_count.txt', 'r', encoding='utf-8') as f:\n",
        "  counts = f.read().split()\n",
        "\n",
        "event_counter = 0\n",
        "for c in counts:\n",
        "  event_counter += int(c)"
      ],
      "metadata": {
        "id": "K7MYV-f00J__"
      },
      "execution_count": 7,
      "outputs": []
    },
    {
      "cell_type": "code",
      "source": [
        "with open('coref_event_count.txt', 'r', encoding='utf-8') as f:\n",
        "  cor_lines = f.readlines()\n",
        "\n",
        "coref_event_count = []\n",
        "for line in cor_lines:\n",
        "  coref_event_count.append((tuple(line.split()[:2]), tuple(line.split()[-2:])))"
      ],
      "metadata": {
        "id": "TTv0zcLU0X8q"
      },
      "execution_count": 8,
      "outputs": []
    },
    {
      "cell_type": "code",
      "source": [
        "with open('coref_role_count.txt', 'r', encoding='utf-8') as f:\n",
        "  cor_lines = f.readlines()\n",
        "\n",
        "coref_role_count = []\n",
        "for line in cor_lines:\n",
        "  coref_role_count.append((tuple(line.split()[:2]), tuple(line.split()[-3:-1]), line.split()[-1]))"
      ],
      "metadata": {
        "id": "6y0-ndLW0aPF"
      },
      "execution_count": 9,
      "outputs": []
    },
    {
      "cell_type": "code",
      "source": [
        "with open('all_events.txt', 'r', encoding='utf-8') as f:\n",
        "  ev_lines = f.readlines()\n",
        "\n",
        "all_events = []\n",
        "for line in ev_lines:\n",
        "  all_events.append(tuple(line.split()))"
      ],
      "metadata": {
        "id": "LfS_5ZI10ckb"
      },
      "execution_count": 10,
      "outputs": []
    },
    {
      "cell_type": "code",
      "source": [
        "dep_types = ['nsubj', 'obj']\n",
        "c_coref_event_count = Counter(coref_event_count)\n",
        "c_all_events = Counter(all_events)\n",
        "len_coref_event = len(coref_event_count)"
      ],
      "metadata": {
        "id": "FWAcJoJs0fAk"
      },
      "execution_count": 11,
      "outputs": []
    },
    {
      "cell_type": "code",
      "source": [
        "c_coref_role_count = Counter(coref_role_count)"
      ],
      "metadata": {
        "id": "sSCBxkqJ0sEp"
      },
      "execution_count": 12,
      "outputs": []
    },
    {
      "cell_type": "code",
      "source": [
        "#collecting all arguments\n",
        "arg_list = []\n",
        "for key in c_coref_role_count:\n",
        "  if key[-1] not in arg_list:\n",
        "    arg_list.append(key[-1])"
      ],
      "metadata": {
        "id": "0cChX5It00J7"
      },
      "execution_count": 13,
      "outputs": []
    },
    {
      "cell_type": "code",
      "source": [
        "all_args = []\n",
        "for key in c_coref_role_count:\n",
        "  all_args.append(key[-1])\n",
        "\n",
        "c_all_args = Counter(all_args)"
      ],
      "metadata": {
        "id": "8IUrefxCBAXl"
      },
      "execution_count": 14,
      "outputs": []
    },
    {
      "cell_type": "code",
      "source": [
        "all_args = []\n",
        "for key in coref_role_count:\n",
        "  all_args.append(key[-1])\n",
        "\n",
        "c_all_args2 = Counter(all_args)"
      ],
      "metadata": {
        "id": "R6YuC3wGLqmU"
      },
      "execution_count": 34,
      "outputs": []
    },
    {
      "cell_type": "code",
      "source": [],
      "metadata": {
        "colab": {
          "base_uri": "https://localhost:8080/"
        },
        "id": "UqSJos0YLx3X",
        "outputId": "a7dfe70c-a69f-429a-ca5a-50317ca89f56"
      },
      "execution_count": 36,
      "outputs": [
        {
          "output_type": "execute_result",
          "data": {
            "text/plain": [
              "[('королевна', 17805),\n",
              " ('Иван', 12837),\n",
              " ('буря', 8995),\n",
              " ('голова', 8204),\n",
              " ('царь', 6753),\n",
              " ('царица', 6337),\n",
              " ('конь', 6076),\n",
              " ('время', 5990),\n",
              " ('девица', 5874),\n",
              " ('Василис', 5511),\n",
              " ('брат', 5252),\n",
              " ('орел', 5106),\n",
              " ('Елена', 4659),\n",
              " ('царевна', 4379),\n",
              " ('корабль', 4197),\n",
              " ('сын', 3799),\n",
              " ('книга', 3177),\n",
              " ('нога', 3160),\n",
              " ('вода', 3076),\n",
              " ('войско', 3072)]"
            ]
          },
          "metadata": {},
          "execution_count": 36
        }
      ]
    },
    {
      "cell_type": "code",
      "source": [
        "c_all_args.most_common(20)"
      ],
      "metadata": {
        "colab": {
          "base_uri": "https://localhost:8080/"
        },
        "id": "PH-n_dCjBiUv",
        "outputId": "a6da596b-154b-4877-dfd5-6ccb93a80fbf"
      },
      "execution_count": 15,
      "outputs": [
        {
          "output_type": "execute_result",
          "data": {
            "text/plain": [
              "[('королевна', 11037),\n",
              " ('Иван', 7747),\n",
              " ('буря', 4712),\n",
              " ('голова', 4525),\n",
              " ('царь', 4430),\n",
              " ('время', 4168),\n",
              " ('брат', 3917),\n",
              " ('Елена', 3774),\n",
              " ('царица', 3593),\n",
              " ('девица', 3582),\n",
              " ('царевна', 3295),\n",
              " ('Василис', 3178),\n",
              " ('корабль', 2797),\n",
              " ('сын', 2704),\n",
              " ('орел', 2392),\n",
              " ('нога', 2302),\n",
              " ('конь', 2204),\n",
              " ('книга', 2124),\n",
              " ('вода', 2060),\n",
              " ('сестра', 2057)]"
            ]
          },
          "metadata": {},
          "execution_count": 15
        }
      ]
    },
    {
      "cell_type": "code",
      "source": [
        "# collecting all verbs\n",
        "verb_list = []\n",
        "for event in all_events:\n",
        "  if event[0] not in verb_list:\n",
        "    verb_list.append(event[0])"
      ],
      "metadata": {
        "id": "0GGFtNsi02w5"
      },
      "execution_count": 16,
      "outputs": []
    },
    {
      "cell_type": "code",
      "source": [
        "c_all_events.most_common(20)\n"
      ],
      "metadata": {
        "colab": {
          "base_uri": "https://localhost:8080/"
        },
        "id": "4KpGC4evNI98",
        "outputId": "df6f3981-7687-4893-c6da-114218e63b4f"
      },
      "execution_count": null,
      "outputs": [
        {
          "output_type": "execute_result",
          "data": {
            "text/plain": [
              "[(('говорить', 'nsubj'), 928),\n",
              " (('брать', 'obj'), 848),\n",
              " (('стать', 'nsubj'), 528),\n",
              " (('быть', 'nsubj'), 491),\n",
              " (('брать', 'nsubj'), 476),\n",
              " (('пойти', 'nsubj'), 444),\n",
              " (('сказать', 'nsubj'), 339),\n",
              " (('делать', 'obj'), 335),\n",
              " (('отвечать', 'nsubj'), 326),\n",
              " (('прийти', 'nsubj'), 318),\n",
              " (('жить', 'nsubj'), 262),\n",
              " (('отдать', 'obj'), 255),\n",
              " (('идти', 'nsubj'), 245),\n",
              " (('дать', 'obj'), 231),\n",
              " (('нет', 'nsubj'), 227),\n",
              " (('стоить', 'nsubj'), 223),\n",
              " (('сидеть', 'nsubj'), 198),\n",
              " (('выйти', 'nsubj'), 193),\n",
              " (('делать', 'nsubj'), 191),\n",
              " (('спрашивать', 'nsubj'), 179)]"
            ]
          },
          "metadata": {},
          "execution_count": 15
        }
      ]
    },
    {
      "cell_type": "code",
      "source": [
        "chain_list = []\n",
        "for event in tqdm(c_all_events.most_common(20)):\n",
        "  nar_chain = [event[0]]\n",
        "\n",
        "  for _ in range(6):\n",
        "    pmi_sc = 0\n",
        "    new_ev = None\n",
        "\n",
        "    for ev in c_all_events:\n",
        "      pmi_list = []\n",
        "      for chain_ev in nar_chain:\n",
        "        pmi_list.append(pmi((chain_ev, ev), c_coref_event_count, c_all_events, event_counter, len_coref_event))\n",
        "      if sum(pmi_list) > pmi_sc and ev not in nar_chain:\n",
        "        pmi_sc = sum(pmi_list)\n",
        "        new_ev = ev\n",
        "    \n",
        "    nar_chain.append(new_ev)\n",
        "\n",
        "  chain_list.append(nar_chain)\n",
        "\n"
      ],
      "metadata": {
        "colab": {
          "base_uri": "https://localhost:8080/"
        },
        "id": "vhVp876rNcSX",
        "outputId": "c2d6bd84-273b-4ff0-c964-f4edbd33e42c"
      },
      "execution_count": 17,
      "outputs": [
        {
          "output_type": "stream",
          "name": "stderr",
          "text": [
            "100%|██████████| 20/20 [00:02<00:00,  6.79it/s]\n"
          ]
        }
      ]
    },
    {
      "cell_type": "code",
      "source": [
        "sivko_chain = [('бежать', 'nsubj'), ('поласкать', 'obj'), ('убежать', 'nsubj'), ('отпустить', 'obj')]"
      ],
      "metadata": {
        "id": "OlOVUTeg0eTL"
      },
      "execution_count": 20,
      "outputs": []
    },
    {
      "cell_type": "code",
      "source": [
        "best_arg = None\n",
        "best_sc = 0\n",
        "for arg in arg_list:\n",
        "  sc = chain_score(chain, arg, lmbd=1)\n",
        "  if sc > best_sc:\n",
        "    best_arg = arg\n",
        "    best_sc = sc\n",
        "\n",
        "best_arg"
      ],
      "metadata": {
        "colab": {
          "base_uri": "https://localhost:8080/",
          "height": 35
        },
        "id": "_w2gKu8X1VVW",
        "outputId": "5f0ab8b8-955e-426b-d313-af33b56037ae"
      },
      "execution_count": 21,
      "outputs": [
        {
          "output_type": "execute_result",
          "data": {
            "text/plain": [
              "'царь'"
            ],
            "application/vnd.google.colaboratory.intrinsic+json": {
              "type": "string"
            }
          },
          "metadata": {},
          "execution_count": 21
        }
      ]
    },
    {
      "cell_type": "code",
      "source": [
        "chain_list"
      ],
      "metadata": {
        "id": "7HqrrwUkPB85"
      },
      "execution_count": null,
      "outputs": []
    },
    {
      "cell_type": "code",
      "source": [
        "best_args = []\n",
        "for chain in tqdm(chain_list):\n",
        "  best_arg = None\n",
        "  best_sc = 0\n",
        "  for arg in arg_list:\n",
        "    sc = chain_score(chain, arg, lmbd=1)\n",
        "    if sc > best_sc:\n",
        "      best_arg = arg\n",
        "      best_sc = sc\n",
        "  best_args.append(best_arg)"
      ],
      "metadata": {
        "colab": {
          "base_uri": "https://localhost:8080/"
        },
        "id": "ERnrA-QaP9PU",
        "outputId": "4d3eab3c-6c64-48d1-e021-84ede011cc2e"
      },
      "execution_count": 18,
      "outputs": [
        {
          "output_type": "stream",
          "name": "stderr",
          "text": [
            "100%|██████████| 20/20 [00:01<00:00, 16.51it/s]\n"
          ]
        }
      ]
    },
    {
      "cell_type": "code",
      "source": [
        "best_args"
      ],
      "metadata": {
        "colab": {
          "base_uri": "https://localhost:8080/"
        },
        "id": "riN2mp44PfD6",
        "outputId": "b5e1f65b-4f6e-430f-b317-b21a0691fe1b"
      },
      "execution_count": 28,
      "outputs": [
        {
          "output_type": "execute_result",
          "data": {
            "text/plain": [
              "['образ',\n",
              " 'жар-птица',\n",
              " 'конь',\n",
              " 'де´вица',\n",
              " 'Булат',\n",
              " 'голова',\n",
              " 'Василис',\n",
              " 'конь',\n",
              " 'Василис',\n",
              " 'царь',\n",
              " 'девица',\n",
              " 'платье',\n",
              " 'мост',\n",
              " 'образ',\n",
              " 'троижд',\n",
              " 'вихрь',\n",
              " 'королевна',\n",
              " 'королевич',\n",
              " 'царь',\n",
              " 'царь']"
            ]
          },
          "metadata": {},
          "execution_count": 28
        }
      ]
    },
    {
      "cell_type": "code",
      "source": [
        "chain_list[17] #королевич"
      ],
      "metadata": {
        "colab": {
          "base_uri": "https://localhost:8080/"
        },
        "id": "ZZOBRZ4TXKJ0",
        "outputId": "e9f12d27-6da0-4680-9aae-fc5e9b113063"
      },
      "execution_count": null,
      "outputs": [
        {
          "output_type": "execute_result",
          "data": {
            "text/plain": [
              "[('выйти', 'nsubj'),\n",
              " ('выучиться', 'nsubj'),\n",
              " ('стегнуть', 'nsubj'),\n",
              " ('вытащить', 'obj'),\n",
              " ('ударить', 'nsubj'),\n",
              " ('заскакать', 'nsubj'),\n",
              " ('утащить', 'obj')]"
            ]
          },
          "metadata": {},
          "execution_count": 51
        }
      ]
    },
    {
      "cell_type": "code",
      "source": [
        "chain_list[15] #вихрь"
      ],
      "metadata": {
        "colab": {
          "base_uri": "https://localhost:8080/"
        },
        "id": "gUhU2f7OWh-m",
        "outputId": "87fb4d35-5852-44e2-9490-a6e26795cea5"
      },
      "execution_count": null,
      "outputs": [
        {
          "output_type": "execute_result",
          "data": {
            "text/plain": [
              "[('стоить', 'nsubj'),\n",
              " ('помутиться', 'nsubj'),\n",
              " ('уехать', 'obj'),\n",
              " ('пить', 'nsubj'),\n",
              " ('рвастись', 'nsubj'),\n",
              " ('вылетать', 'nsubj'),\n",
              " ('ослабеть', 'nsubj')]"
            ]
          },
          "metadata": {},
          "execution_count": 49
        }
      ]
    },
    {
      "cell_type": "code",
      "source": [
        "chain_list[10] #девица"
      ],
      "metadata": {
        "colab": {
          "base_uri": "https://localhost:8080/"
        },
        "id": "uz6xPFb8WUaI",
        "outputId": "7b8cd5ea-a9d2-4501-f7e9-1cf21837385c"
      },
      "execution_count": null,
      "outputs": [
        {
          "output_type": "execute_result",
          "data": {
            "text/plain": [
              "[('жить', 'nsubj'),\n",
              " ('плестись', 'nsubj'),\n",
              " ('молвать', 'nsubj'),\n",
              " ('отвернуться', 'nsubj'),\n",
              " ('прикинуться', 'nsubj'),\n",
              " ('расстрелять', 'obj'),\n",
              " ('спасти', 'obj')]"
            ]
          },
          "metadata": {},
          "execution_count": 41
        }
      ]
    },
    {
      "cell_type": "code",
      "source": [
        "chain_list[-2] #царь"
      ],
      "metadata": {
        "colab": {
          "base_uri": "https://localhost:8080/"
        },
        "id": "NpTmXQleWIFT",
        "outputId": "28b8044e-fdcf-49df-d33d-64b5cf5d8bd1"
      },
      "execution_count": null,
      "outputs": [
        {
          "output_type": "execute_result",
          "data": {
            "text/plain": [
              "[('делать', 'nsubj'),\n",
              " ('вздыхать', 'nsubj'),\n",
              " ('покличь', 'obj'),\n",
              " ('вытянуть', 'obj'),\n",
              " ('вынести', 'nsubj'),\n",
              " ('требовать', 'nsubj'),\n",
              " ('достать', 'nsubj')]"
            ]
          },
          "metadata": {},
          "execution_count": 39
        }
      ]
    },
    {
      "cell_type": "code",
      "source": [
        "chain_list[9] #царь"
      ],
      "metadata": {
        "colab": {
          "base_uri": "https://localhost:8080/"
        },
        "id": "vBrszkwdV2Td",
        "outputId": "02081437-0906-4398-cd8c-df32a0196a38"
      },
      "execution_count": null,
      "outputs": [
        {
          "output_type": "execute_result",
          "data": {
            "text/plain": [
              "[('прийти', 'nsubj'),\n",
              " ('вздыхать', 'nsubj'),\n",
              " ('покличь', 'obj'),\n",
              " ('вытянуть', 'obj'),\n",
              " ('вынести', 'nsubj'),\n",
              " ('требовать', 'nsubj'),\n",
              " ('достать', 'nsubj')]"
            ]
          },
          "metadata": {},
          "execution_count": 37
        }
      ]
    },
    {
      "cell_type": "code",
      "source": [
        "chain_list[8] #Василис"
      ],
      "metadata": {
        "colab": {
          "base_uri": "https://localhost:8080/"
        },
        "id": "yN_w7jmVVPxc",
        "outputId": "b13c2a40-6610-4d9d-e3a7-7c0f77af27f7"
      },
      "execution_count": null,
      "outputs": [
        {
          "output_type": "execute_result",
          "data": {
            "text/plain": [
              "[('отвечать', 'nsubj'),\n",
              " ('приготовить', 'nsubj'),\n",
              " ('впустить', 'obj'),\n",
              " ('умыться', 'nsubj'),\n",
              " ('носить', 'obj'),\n",
              " ('понести', 'nsubj'),\n",
              " ('отговориться', 'nsubj')]"
            ]
          },
          "metadata": {},
          "execution_count": 35
        }
      ]
    },
    {
      "cell_type": "code",
      "source": [
        "chain_list[6] #Василис"
      ],
      "metadata": {
        "colab": {
          "base_uri": "https://localhost:8080/"
        },
        "id": "nzw-T6OnVBju",
        "outputId": "ede439c2-8aa7-4bf2-afde-5894798e47e5"
      },
      "execution_count": null,
      "outputs": [
        {
          "output_type": "execute_result",
          "data": {
            "text/plain": [
              "[('сказать', 'nsubj'),\n",
              " ('приготовить', 'nsubj'),\n",
              " ('впустить', 'obj'),\n",
              " ('умыться', 'nsubj'),\n",
              " ('носить', 'obj'),\n",
              " ('понести', 'nsubj'),\n",
              " ('найти', 'obj')]"
            ]
          },
          "metadata": {},
          "execution_count": 32
        }
      ]
    },
    {
      "cell_type": "code",
      "source": [
        "chain_list[4] #Булат"
      ],
      "metadata": {
        "colab": {
          "base_uri": "https://localhost:8080/"
        },
        "id": "Cn3-0BNKUkRe",
        "outputId": "2b9e782a-b9b4-49ae-868d-cc394a0d6091"
      },
      "execution_count": null,
      "outputs": [
        {
          "output_type": "execute_result",
          "data": {
            "text/plain": [
              "[('брать', 'nsubj'),\n",
              " ('запрятать', 'nsubj'),\n",
              " ('выспросить', 'nsubj'),\n",
              " ('разбудить', 'nsubj'),\n",
              " ('отрубить', 'nsubj'),\n",
              " ('ожить', 'nsubj'),\n",
              " ('махнуть', 'nsubj')]"
            ]
          },
          "metadata": {},
          "execution_count": 31
        }
      ]
    },
    {
      "cell_type": "code",
      "source": [
        "chain_list[1] #жар-птица"
      ],
      "metadata": {
        "colab": {
          "base_uri": "https://localhost:8080/"
        },
        "id": "GFXrDxuvQ5mM",
        "outputId": "cd4e5db2-c6cd-4468-817b-e248f156e7d2"
      },
      "execution_count": null,
      "outputs": [
        {
          "output_type": "execute_result",
          "data": {
            "text/plain": [
              "[('брать', 'obj'),\n",
              " ('испугаться', 'obj'),\n",
              " ('сослужить', 'obj'),\n",
              " ('сослужать', 'obj'),\n",
              " ('увезти', 'obj'),\n",
              " ('начать', 'obj'),\n",
              " ('удариться', 'obj')]"
            ]
          },
          "metadata": {},
          "execution_count": 26
        }
      ]
    },
    {
      "cell_type": "code",
      "source": [
        "chain_list[2] #конь"
      ],
      "metadata": {
        "colab": {
          "base_uri": "https://localhost:8080/"
        },
        "id": "Sy526WR6UDDk",
        "outputId": "758b7480-dff7-4d5e-c569-50330e34f7a6"
      },
      "execution_count": null,
      "outputs": [
        {
          "output_type": "execute_result",
          "data": {
            "text/plain": [
              "[('стать', 'nsubj'),\n",
              " ('усмириться', 'nsubj'),\n",
              " ('зацепить', 'nsubj'),\n",
              " ('задушить', 'nsubj'),\n",
              " ('оживеть', 'nsubj'),\n",
              " ('сказаться', 'nsubj'),\n",
              " ('запасить', 'obj')]"
            ]
          },
          "metadata": {},
          "execution_count": 27
        }
      ]
    },
    {
      "cell_type": "code",
      "source": [
        "def arg_to_chain(argument, chain_length=6):\n",
        "  events = []\n",
        "  for pair in coref_role_count:\n",
        "    if argument in pair:\n",
        "      events.extend(pair[:-1])\n",
        "  chain = [Counter(events).most_common(1)[0][0]]\n",
        "  for _ in range(chain_length-1):\n",
        "    best_sc = 0\n",
        "    best_ev = None\n",
        "    for event in c_all_events:\n",
        "      sc = chain_score(chain+[event], argument, lmbd=1)\n",
        "      if sc > best_sc and event not in chain:\n",
        "        best_sc = sc\n",
        "        best_ev = event\n",
        "    chain.append(best_ev)\n",
        "  \n",
        "  return chain"
      ],
      "metadata": {
        "id": "JlGLyHsUXhI3"
      },
      "execution_count": 19,
      "outputs": []
    },
    {
      "cell_type": "code",
      "source": [
        " arg_to_chain('Сивко', chain_length=6)"
      ],
      "metadata": {
        "colab": {
          "base_uri": "https://localhost:8080/"
        },
        "id": "a4cs_sA7cuoc",
        "outputId": "d0f13ec0-0049-47b8-eb3e-c9776693a38a"
      },
      "execution_count": 23,
      "outputs": [
        {
          "output_type": "execute_result",
          "data": {
            "text/plain": [
              "[('бежать', 'nsubj'),\n",
              " ('почать', 'nsubj'),\n",
              " ('сбросить', 'nsubj'),\n",
              " ('спрыснуть', 'obj'),\n",
              " ('целовать', 'obj'),\n",
              " ('остановиться', 'nsubj')]"
            ]
          },
          "metadata": {},
          "execution_count": 23
        }
      ]
    },
    {
      "cell_type": "code",
      "source": [
        "arg_to_chain('жар-птица', chain_length=6)"
      ],
      "metadata": {
        "colab": {
          "base_uri": "https://localhost:8080/"
        },
        "id": "FiYKTsz9dRn4",
        "outputId": "91efb431-7c1a-43b9-c0ed-84b702896417"
      },
      "execution_count": 61,
      "outputs": [
        {
          "output_type": "execute_result",
          "data": {
            "text/plain": [
              "[('брать', 'obj'),\n",
              " ('испугаться', 'obj'),\n",
              " ('сослужить', 'obj'),\n",
              " ('сослужать', 'obj'),\n",
              " ('увезти', 'obj'),\n",
              " ('начать', 'obj')]"
            ]
          },
          "metadata": {},
          "execution_count": 61
        }
      ]
    },
    {
      "cell_type": "code",
      "source": [
        "b = [1]\n",
        "print(b+[3])\n",
        "b"
      ],
      "metadata": {
        "colab": {
          "base_uri": "https://localhost:8080/"
        },
        "id": "pX2WHQJZYqF4",
        "outputId": "2f538dfe-e584-495f-91f9-14d0af682358"
      },
      "execution_count": null,
      "outputs": [
        {
          "output_type": "stream",
          "name": "stdout",
          "text": [
            "[1, 3]\n"
          ]
        },
        {
          "output_type": "execute_result",
          "data": {
            "text/plain": [
              "[1]"
            ]
          },
          "metadata": {},
          "execution_count": 63
        }
      ]
    },
    {
      "cell_type": "code",
      "source": [
        "def arg_to_chain(argument, chain_length=6):\n",
        "  chain = []\n",
        "  for _ in tqdm(range(chain_length)):\n",
        "    best_sc = 0\n",
        "    best_ev = None\n",
        "    for event in c_all_events:\n",
        "      sc = chain_score(chain+[event], argument, lmbd=1)\n",
        "      if sc > best_sc and event not in chain:\n",
        "        best_sc = sc\n",
        "        best_ev = event\n",
        "    chain.append(best_ev)\n",
        "  \n",
        "  return chain"
      ],
      "metadata": {
        "id": "MiQmKhvLYrsa"
      },
      "execution_count": null,
      "outputs": []
    }
  ]
}